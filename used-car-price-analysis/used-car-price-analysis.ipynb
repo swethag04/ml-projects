{
  "cells": [
    {
      "cell_type": "markdown",
      "metadata": {
        "id": "view-in-github",
        "colab_type": "text"
      },
      "source": [
        "<a href=\"https://colab.research.google.com/github/swethag04/ml-projects/blob/main/used-car-price-analysis/used-car-price-analysis.ipynb\" target=\"_parent\"><img src=\"https://colab.research.google.com/assets/colab-badge.svg\" alt=\"Open In Colab\"/></a>"
      ]
    },
    {
      "cell_type": "markdown",
      "metadata": {
        "id": "sXcQad5LWNDW"
      },
      "source": [
        "# What drives the price of a car?\n",
        "\n",
        "![](/content/sample_data/kurt.jpeg)"
      ]
    },
    {
      "cell_type": "markdown",
      "metadata": {
        "id": "yrPBrxK1WNDY"
      },
      "source": [
        "### Overview ###\n",
        "\n",
        "The objective of this analysis is to understand what factors make a car more or less expensive and provide clear recommendations to a used car dealership as to what consumers value in a used car.\n",
        "\n",
        "The vehicle dataset used is from Kaggle and contains information on 426K used cars.\n",
        "\n",
        "The analysis uses CRISP-DM methodology which consists of the following steps:\n",
        "\n",
        "1. Business Understanding\n",
        "2. Data Understanding\n",
        "3. Data Preparation\n",
        "4. Modeling\n",
        "5. Evaluation\n",
        "6. Deployment\n",
        "\n",
        "\n"
      ]
    },
    {
      "cell_type": "markdown",
      "metadata": {
        "id": "eEeBt5N2WNDZ"
      },
      "source": [
        "### Business Understanding\n",
        "\n",
        "This analysis will focus on understanding what are some of the features that a customer values in a used car, that will influence the price of the car.\n",
        "\n",
        "1. Do customers value model/manufacturer/size of a used car?\n",
        "2. Do customers value age/condition of a used car?\n",
        "3. Do customers value the mechanical features like cylinders, tranmsission, fuel type etc. of a used car?\n",
        "\n",
        "These insights will help the car dealership to build their future inventory as well maximise their revenue/profit.\n"
      ]
    },
    {
      "cell_type": "markdown",
      "metadata": {
        "id": "a1e13YGDWNDa"
      },
      "source": [
        "### Data Understanding\n",
        "\n",
        "The data understanding step involves getting familiar with the dataset, data exploration and identifying any quality issues within."
      ]
    },
    {
      "cell_type": "code",
      "execution_count": 111,
      "metadata": {
        "id": "FE19r4pSWNDb"
      },
      "outputs": [],
      "source": [
        "import warnings\n",
        "warnings.filterwarnings('ignore')\n",
        "\n",
        "import pandas as pd\n",
        "import numpy as np\n",
        "import matplotlib.pyplot as plt\n",
        "import seaborn as sns\n",
        "import plotly as px\n",
        "from datetime import date\n",
        "from sklearn.preprocessing import StandardScaler\n",
        "from sklearn.pipeline import Pipeline\n",
        "from sklearn.linear_model import Ridge, LinearRegression\n",
        "from sklearn.model_selection import train_test_split, GridSearchCV\n",
        "from sklearn.metrics import mean_squared_error\n",
        "from sklearn.feature_selection import SequentialFeatureSelector\n",
        "%matplotlib inline"
      ]
    },
    {
      "cell_type": "code",
      "execution_count": 112,
      "metadata": {
        "colab": {
          "base_uri": "https://localhost:8080/",
          "height": 278
        },
        "id": "lUdzDcnlWNDb",
        "outputId": "efb1ec26-daad-400c-cbe6-e265b222f643"
      },
      "outputs": [
        {
          "output_type": "execute_result",
          "data": {
            "text/plain": [
              "           id                  region  price  year manufacturer model  \\\n",
              "0  7222695916                prescott   6000   NaN          NaN   NaN   \n",
              "1  7218891961            fayetteville  11900   NaN          NaN   NaN   \n",
              "2  7221797935            florida keys  21000   NaN          NaN   NaN   \n",
              "3  7222270760  worcester / central MA   1500   NaN          NaN   NaN   \n",
              "4  7210384030              greensboro   4900   NaN          NaN   NaN   \n",
              "\n",
              "  condition cylinders fuel  odometer title_status transmission  VIN drive  \\\n",
              "0       NaN       NaN  NaN       NaN          NaN          NaN  NaN   NaN   \n",
              "1       NaN       NaN  NaN       NaN          NaN          NaN  NaN   NaN   \n",
              "2       NaN       NaN  NaN       NaN          NaN          NaN  NaN   NaN   \n",
              "3       NaN       NaN  NaN       NaN          NaN          NaN  NaN   NaN   \n",
              "4       NaN       NaN  NaN       NaN          NaN          NaN  NaN   NaN   \n",
              "\n",
              "  size type paint_color state  \n",
              "0  NaN  NaN         NaN    az  \n",
              "1  NaN  NaN         NaN    ar  \n",
              "2  NaN  NaN         NaN    fl  \n",
              "3  NaN  NaN         NaN    ma  \n",
              "4  NaN  NaN         NaN    nc  "
            ],
            "text/html": [
              "\n",
              "  <div id=\"df-40b5c8af-b6d2-4810-84fd-74f813aba94f\" class=\"colab-df-container\">\n",
              "    <div>\n",
              "<style scoped>\n",
              "    .dataframe tbody tr th:only-of-type {\n",
              "        vertical-align: middle;\n",
              "    }\n",
              "\n",
              "    .dataframe tbody tr th {\n",
              "        vertical-align: top;\n",
              "    }\n",
              "\n",
              "    .dataframe thead th {\n",
              "        text-align: right;\n",
              "    }\n",
              "</style>\n",
              "<table border=\"1\" class=\"dataframe\">\n",
              "  <thead>\n",
              "    <tr style=\"text-align: right;\">\n",
              "      <th></th>\n",
              "      <th>id</th>\n",
              "      <th>region</th>\n",
              "      <th>price</th>\n",
              "      <th>year</th>\n",
              "      <th>manufacturer</th>\n",
              "      <th>model</th>\n",
              "      <th>condition</th>\n",
              "      <th>cylinders</th>\n",
              "      <th>fuel</th>\n",
              "      <th>odometer</th>\n",
              "      <th>title_status</th>\n",
              "      <th>transmission</th>\n",
              "      <th>VIN</th>\n",
              "      <th>drive</th>\n",
              "      <th>size</th>\n",
              "      <th>type</th>\n",
              "      <th>paint_color</th>\n",
              "      <th>state</th>\n",
              "    </tr>\n",
              "  </thead>\n",
              "  <tbody>\n",
              "    <tr>\n",
              "      <th>0</th>\n",
              "      <td>7222695916</td>\n",
              "      <td>prescott</td>\n",
              "      <td>6000</td>\n",
              "      <td>NaN</td>\n",
              "      <td>NaN</td>\n",
              "      <td>NaN</td>\n",
              "      <td>NaN</td>\n",
              "      <td>NaN</td>\n",
              "      <td>NaN</td>\n",
              "      <td>NaN</td>\n",
              "      <td>NaN</td>\n",
              "      <td>NaN</td>\n",
              "      <td>NaN</td>\n",
              "      <td>NaN</td>\n",
              "      <td>NaN</td>\n",
              "      <td>NaN</td>\n",
              "      <td>NaN</td>\n",
              "      <td>az</td>\n",
              "    </tr>\n",
              "    <tr>\n",
              "      <th>1</th>\n",
              "      <td>7218891961</td>\n",
              "      <td>fayetteville</td>\n",
              "      <td>11900</td>\n",
              "      <td>NaN</td>\n",
              "      <td>NaN</td>\n",
              "      <td>NaN</td>\n",
              "      <td>NaN</td>\n",
              "      <td>NaN</td>\n",
              "      <td>NaN</td>\n",
              "      <td>NaN</td>\n",
              "      <td>NaN</td>\n",
              "      <td>NaN</td>\n",
              "      <td>NaN</td>\n",
              "      <td>NaN</td>\n",
              "      <td>NaN</td>\n",
              "      <td>NaN</td>\n",
              "      <td>NaN</td>\n",
              "      <td>ar</td>\n",
              "    </tr>\n",
              "    <tr>\n",
              "      <th>2</th>\n",
              "      <td>7221797935</td>\n",
              "      <td>florida keys</td>\n",
              "      <td>21000</td>\n",
              "      <td>NaN</td>\n",
              "      <td>NaN</td>\n",
              "      <td>NaN</td>\n",
              "      <td>NaN</td>\n",
              "      <td>NaN</td>\n",
              "      <td>NaN</td>\n",
              "      <td>NaN</td>\n",
              "      <td>NaN</td>\n",
              "      <td>NaN</td>\n",
              "      <td>NaN</td>\n",
              "      <td>NaN</td>\n",
              "      <td>NaN</td>\n",
              "      <td>NaN</td>\n",
              "      <td>NaN</td>\n",
              "      <td>fl</td>\n",
              "    </tr>\n",
              "    <tr>\n",
              "      <th>3</th>\n",
              "      <td>7222270760</td>\n",
              "      <td>worcester / central MA</td>\n",
              "      <td>1500</td>\n",
              "      <td>NaN</td>\n",
              "      <td>NaN</td>\n",
              "      <td>NaN</td>\n",
              "      <td>NaN</td>\n",
              "      <td>NaN</td>\n",
              "      <td>NaN</td>\n",
              "      <td>NaN</td>\n",
              "      <td>NaN</td>\n",
              "      <td>NaN</td>\n",
              "      <td>NaN</td>\n",
              "      <td>NaN</td>\n",
              "      <td>NaN</td>\n",
              "      <td>NaN</td>\n",
              "      <td>NaN</td>\n",
              "      <td>ma</td>\n",
              "    </tr>\n",
              "    <tr>\n",
              "      <th>4</th>\n",
              "      <td>7210384030</td>\n",
              "      <td>greensboro</td>\n",
              "      <td>4900</td>\n",
              "      <td>NaN</td>\n",
              "      <td>NaN</td>\n",
              "      <td>NaN</td>\n",
              "      <td>NaN</td>\n",
              "      <td>NaN</td>\n",
              "      <td>NaN</td>\n",
              "      <td>NaN</td>\n",
              "      <td>NaN</td>\n",
              "      <td>NaN</td>\n",
              "      <td>NaN</td>\n",
              "      <td>NaN</td>\n",
              "      <td>NaN</td>\n",
              "      <td>NaN</td>\n",
              "      <td>NaN</td>\n",
              "      <td>nc</td>\n",
              "    </tr>\n",
              "  </tbody>\n",
              "</table>\n",
              "</div>\n",
              "    <div class=\"colab-df-buttons\">\n",
              "\n",
              "  <div class=\"colab-df-container\">\n",
              "    <button class=\"colab-df-convert\" onclick=\"convertToInteractive('df-40b5c8af-b6d2-4810-84fd-74f813aba94f')\"\n",
              "            title=\"Convert this dataframe to an interactive table.\"\n",
              "            style=\"display:none;\">\n",
              "\n",
              "  <svg xmlns=\"http://www.w3.org/2000/svg\" height=\"24px\" viewBox=\"0 -960 960 960\">\n",
              "    <path d=\"M120-120v-720h720v720H120Zm60-500h600v-160H180v160Zm220 220h160v-160H400v160Zm0 220h160v-160H400v160ZM180-400h160v-160H180v160Zm440 0h160v-160H620v160ZM180-180h160v-160H180v160Zm440 0h160v-160H620v160Z\"/>\n",
              "  </svg>\n",
              "    </button>\n",
              "\n",
              "  <style>\n",
              "    .colab-df-container {\n",
              "      display:flex;\n",
              "      gap: 12px;\n",
              "    }\n",
              "\n",
              "    .colab-df-convert {\n",
              "      background-color: #E8F0FE;\n",
              "      border: none;\n",
              "      border-radius: 50%;\n",
              "      cursor: pointer;\n",
              "      display: none;\n",
              "      fill: #1967D2;\n",
              "      height: 32px;\n",
              "      padding: 0 0 0 0;\n",
              "      width: 32px;\n",
              "    }\n",
              "\n",
              "    .colab-df-convert:hover {\n",
              "      background-color: #E2EBFA;\n",
              "      box-shadow: 0px 1px 2px rgba(60, 64, 67, 0.3), 0px 1px 3px 1px rgba(60, 64, 67, 0.15);\n",
              "      fill: #174EA6;\n",
              "    }\n",
              "\n",
              "    .colab-df-buttons div {\n",
              "      margin-bottom: 4px;\n",
              "    }\n",
              "\n",
              "    [theme=dark] .colab-df-convert {\n",
              "      background-color: #3B4455;\n",
              "      fill: #D2E3FC;\n",
              "    }\n",
              "\n",
              "    [theme=dark] .colab-df-convert:hover {\n",
              "      background-color: #434B5C;\n",
              "      box-shadow: 0px 1px 3px 1px rgba(0, 0, 0, 0.15);\n",
              "      filter: drop-shadow(0px 1px 2px rgba(0, 0, 0, 0.3));\n",
              "      fill: #FFFFFF;\n",
              "    }\n",
              "  </style>\n",
              "\n",
              "    <script>\n",
              "      const buttonEl =\n",
              "        document.querySelector('#df-40b5c8af-b6d2-4810-84fd-74f813aba94f button.colab-df-convert');\n",
              "      buttonEl.style.display =\n",
              "        google.colab.kernel.accessAllowed ? 'block' : 'none';\n",
              "\n",
              "      async function convertToInteractive(key) {\n",
              "        const element = document.querySelector('#df-40b5c8af-b6d2-4810-84fd-74f813aba94f');\n",
              "        const dataTable =\n",
              "          await google.colab.kernel.invokeFunction('convertToInteractive',\n",
              "                                                    [key], {});\n",
              "        if (!dataTable) return;\n",
              "\n",
              "        const docLinkHtml = 'Like what you see? Visit the ' +\n",
              "          '<a target=\"_blank\" href=https://colab.research.google.com/notebooks/data_table.ipynb>data table notebook</a>'\n",
              "          + ' to learn more about interactive tables.';\n",
              "        element.innerHTML = '';\n",
              "        dataTable['output_type'] = 'display_data';\n",
              "        await google.colab.output.renderOutput(dataTable, element);\n",
              "        const docLink = document.createElement('div');\n",
              "        docLink.innerHTML = docLinkHtml;\n",
              "        element.appendChild(docLink);\n",
              "      }\n",
              "    </script>\n",
              "  </div>\n",
              "\n",
              "\n",
              "<div id=\"df-14619f98-3bc1-4926-b7a7-b3b158265bfa\">\n",
              "  <button class=\"colab-df-quickchart\" onclick=\"quickchart('df-14619f98-3bc1-4926-b7a7-b3b158265bfa')\"\n",
              "            title=\"Suggest charts.\"\n",
              "            style=\"display:none;\">\n",
              "\n",
              "<svg xmlns=\"http://www.w3.org/2000/svg\" height=\"24px\"viewBox=\"0 0 24 24\"\n",
              "     width=\"24px\">\n",
              "    <g>\n",
              "        <path d=\"M19 3H5c-1.1 0-2 .9-2 2v14c0 1.1.9 2 2 2h14c1.1 0 2-.9 2-2V5c0-1.1-.9-2-2-2zM9 17H7v-7h2v7zm4 0h-2V7h2v10zm4 0h-2v-4h2v4z\"/>\n",
              "    </g>\n",
              "</svg>\n",
              "  </button>\n",
              "\n",
              "<style>\n",
              "  .colab-df-quickchart {\n",
              "      --bg-color: #E8F0FE;\n",
              "      --fill-color: #1967D2;\n",
              "      --hover-bg-color: #E2EBFA;\n",
              "      --hover-fill-color: #174EA6;\n",
              "      --disabled-fill-color: #AAA;\n",
              "      --disabled-bg-color: #DDD;\n",
              "  }\n",
              "\n",
              "  [theme=dark] .colab-df-quickchart {\n",
              "      --bg-color: #3B4455;\n",
              "      --fill-color: #D2E3FC;\n",
              "      --hover-bg-color: #434B5C;\n",
              "      --hover-fill-color: #FFFFFF;\n",
              "      --disabled-bg-color: #3B4455;\n",
              "      --disabled-fill-color: #666;\n",
              "  }\n",
              "\n",
              "  .colab-df-quickchart {\n",
              "    background-color: var(--bg-color);\n",
              "    border: none;\n",
              "    border-radius: 50%;\n",
              "    cursor: pointer;\n",
              "    display: none;\n",
              "    fill: var(--fill-color);\n",
              "    height: 32px;\n",
              "    padding: 0;\n",
              "    width: 32px;\n",
              "  }\n",
              "\n",
              "  .colab-df-quickchart:hover {\n",
              "    background-color: var(--hover-bg-color);\n",
              "    box-shadow: 0 1px 2px rgba(60, 64, 67, 0.3), 0 1px 3px 1px rgba(60, 64, 67, 0.15);\n",
              "    fill: var(--button-hover-fill-color);\n",
              "  }\n",
              "\n",
              "  .colab-df-quickchart-complete:disabled,\n",
              "  .colab-df-quickchart-complete:disabled:hover {\n",
              "    background-color: var(--disabled-bg-color);\n",
              "    fill: var(--disabled-fill-color);\n",
              "    box-shadow: none;\n",
              "  }\n",
              "\n",
              "  .colab-df-spinner {\n",
              "    border: 2px solid var(--fill-color);\n",
              "    border-color: transparent;\n",
              "    border-bottom-color: var(--fill-color);\n",
              "    animation:\n",
              "      spin 1s steps(1) infinite;\n",
              "  }\n",
              "\n",
              "  @keyframes spin {\n",
              "    0% {\n",
              "      border-color: transparent;\n",
              "      border-bottom-color: var(--fill-color);\n",
              "      border-left-color: var(--fill-color);\n",
              "    }\n",
              "    20% {\n",
              "      border-color: transparent;\n",
              "      border-left-color: var(--fill-color);\n",
              "      border-top-color: var(--fill-color);\n",
              "    }\n",
              "    30% {\n",
              "      border-color: transparent;\n",
              "      border-left-color: var(--fill-color);\n",
              "      border-top-color: var(--fill-color);\n",
              "      border-right-color: var(--fill-color);\n",
              "    }\n",
              "    40% {\n",
              "      border-color: transparent;\n",
              "      border-right-color: var(--fill-color);\n",
              "      border-top-color: var(--fill-color);\n",
              "    }\n",
              "    60% {\n",
              "      border-color: transparent;\n",
              "      border-right-color: var(--fill-color);\n",
              "    }\n",
              "    80% {\n",
              "      border-color: transparent;\n",
              "      border-right-color: var(--fill-color);\n",
              "      border-bottom-color: var(--fill-color);\n",
              "    }\n",
              "    90% {\n",
              "      border-color: transparent;\n",
              "      border-bottom-color: var(--fill-color);\n",
              "    }\n",
              "  }\n",
              "</style>\n",
              "\n",
              "  <script>\n",
              "    async function quickchart(key) {\n",
              "      const quickchartButtonEl =\n",
              "        document.querySelector('#' + key + ' button');\n",
              "      quickchartButtonEl.disabled = true;  // To prevent multiple clicks.\n",
              "      quickchartButtonEl.classList.add('colab-df-spinner');\n",
              "      try {\n",
              "        const charts = await google.colab.kernel.invokeFunction(\n",
              "            'suggestCharts', [key], {});\n",
              "      } catch (error) {\n",
              "        console.error('Error during call to suggestCharts:', error);\n",
              "      }\n",
              "      quickchartButtonEl.classList.remove('colab-df-spinner');\n",
              "      quickchartButtonEl.classList.add('colab-df-quickchart-complete');\n",
              "    }\n",
              "    (() => {\n",
              "      let quickchartButtonEl =\n",
              "        document.querySelector('#df-14619f98-3bc1-4926-b7a7-b3b158265bfa button');\n",
              "      quickchartButtonEl.style.display =\n",
              "        google.colab.kernel.accessAllowed ? 'block' : 'none';\n",
              "    })();\n",
              "  </script>\n",
              "</div>\n",
              "    </div>\n",
              "  </div>\n"
            ]
          },
          "metadata": {},
          "execution_count": 112
        }
      ],
      "source": [
        "df = pd.read_csv('/content/sample_data/vehicles.csv')\n",
        "df.head()"
      ]
    },
    {
      "cell_type": "code",
      "source": [
        "df.shape"
      ],
      "metadata": {
        "colab": {
          "base_uri": "https://localhost:8080/"
        },
        "id": "TxuUt1R-XEss",
        "outputId": "95df7ed4-978a-450f-8cd2-cddee98e5817"
      },
      "execution_count": 45,
      "outputs": [
        {
          "output_type": "execute_result",
          "data": {
            "text/plain": [
              "(426880, 18)"
            ]
          },
          "metadata": {},
          "execution_count": 45
        }
      ]
    },
    {
      "cell_type": "markdown",
      "source": [
        "The dataset has 426K rows,  17 input features and one target feature (\"Price\")"
      ],
      "metadata": {
        "id": "HUfPmU5BuX6f"
      }
    },
    {
      "cell_type": "code",
      "execution_count": 46,
      "metadata": {
        "colab": {
          "base_uri": "https://localhost:8080/"
        },
        "id": "4hzHNVd1WNDb",
        "outputId": "2ae1be3d-c641-442b-f5db-41e86b618eeb"
      },
      "outputs": [
        {
          "output_type": "execute_result",
          "data": {
            "text/plain": [
              "id                int64\n",
              "region           object\n",
              "price             int64\n",
              "year            float64\n",
              "manufacturer     object\n",
              "model            object\n",
              "condition        object\n",
              "cylinders        object\n",
              "fuel             object\n",
              "odometer        float64\n",
              "title_status     object\n",
              "transmission     object\n",
              "VIN              object\n",
              "drive            object\n",
              "size             object\n",
              "type             object\n",
              "paint_color      object\n",
              "state            object\n",
              "dtype: object"
            ]
          },
          "metadata": {},
          "execution_count": 46
        }
      ],
      "source": [
        "# Exploring the data types of the different features\n",
        "df.dtypes"
      ]
    },
    {
      "cell_type": "markdown",
      "source": [
        "**Features in the dataset and their description**\n",
        "\n",
        "1. **id** : A unique identifier for a car sold\n",
        "2. **region** : Name of the region where the car was sold\n",
        "3. **price** : sale price of car\n",
        "4. **year** : Year of car manufacture\n",
        "5. **manufacturer** : Car manufacturer\n",
        "6. **model** : Car model\n",
        "7. **condition** : Current condition of car (good, excellent, like new, fair, new, salvage and NaN)\n",
        "8. **cylinders** : Number of cylinders in the car ( 6 cylinders, 4 cylinders, 8 cylinders, 5 cylinders, 10 cylinders, other, 3 cylinders, 12 cylinders)\n",
        "9. **fuel** : Fuel type (gas, other, diesel, hybrid, electric)\n",
        "10. **odometer**: odometer reading\n",
        "11. **title_status** : status of title of car (clean, rebuilt, salvage, lien, missing, parts only)\n",
        "12. **transmission** : Type of transmission (automtaic, manual, other)\n",
        "13. **VIN** : VIN of car\n",
        "14. **drive** : Drive type of car (4wd, fwd, rwd)\n",
        "15. **size** : car size (full-size, mid-size, compact, sub-compact)\n",
        "16. **type** : Type of car (sedan, SUV, pickup, truck, other, coupe, htachback, wagon, van, convertible, mini-van, offroad, bus)\n",
        "17. **paint_color** : paint color of car (white, black, silver, blue, red, grey, green, custom, yellow, orange, purple)\n",
        "18. **state**: state where car is sold\n",
        "\n",
        "`id` and `price` are of `int` data type <br>\n",
        "`year` and `odometer` are of `float` data type <br>\n",
        "All other remaining attributes are of `object` data type\n",
        "\n"
      ],
      "metadata": {
        "id": "n4Ej6pRju1E_"
      }
    },
    {
      "cell_type": "markdown",
      "source": [
        "**Exploring the individual features**"
      ],
      "metadata": {
        "id": "7FIJX3Bn2ULo"
      }
    },
    {
      "cell_type": "code",
      "source": [
        "# unique values in each feature\n",
        "df.nunique(axis=0)"
      ],
      "metadata": {
        "colab": {
          "base_uri": "https://localhost:8080/"
        },
        "id": "l0shgH4pUPkg",
        "outputId": "1d4dd51d-8c97-4275-de76-bb669d8de43f"
      },
      "execution_count": 47,
      "outputs": [
        {
          "output_type": "execute_result",
          "data": {
            "text/plain": [
              "id              426880\n",
              "region             404\n",
              "price            15655\n",
              "year               114\n",
              "manufacturer        42\n",
              "model            29649\n",
              "condition            6\n",
              "cylinders            8\n",
              "fuel                 5\n",
              "odometer        104870\n",
              "title_status         6\n",
              "transmission         3\n",
              "VIN             118246\n",
              "drive                3\n",
              "size                 4\n",
              "type                13\n",
              "paint_color         12\n",
              "state               51\n",
              "dtype: int64"
            ]
          },
          "metadata": {},
          "execution_count": 47
        }
      ]
    },
    {
      "cell_type": "code",
      "source": [
        "# % of null values in each column\n",
        "(df.isnull().sum()/df.shape[0])* 100.0"
      ],
      "metadata": {
        "colab": {
          "base_uri": "https://localhost:8080/"
        },
        "id": "LiKQyG3vZ956",
        "outputId": "0659685a-ea70-469f-bb7e-4d7dd5b951ed"
      },
      "execution_count": 48,
      "outputs": [
        {
          "output_type": "execute_result",
          "data": {
            "text/plain": [
              "id               0.000000\n",
              "region           0.000000\n",
              "price            0.000000\n",
              "year             0.282281\n",
              "manufacturer     4.133714\n",
              "model            1.236179\n",
              "condition       40.785232\n",
              "cylinders       41.622470\n",
              "fuel             0.705819\n",
              "odometer         1.030735\n",
              "title_status     1.930753\n",
              "transmission     0.598763\n",
              "VIN             37.725356\n",
              "drive           30.586347\n",
              "size            71.767476\n",
              "type            21.752717\n",
              "paint_color     30.501078\n",
              "state            0.000000\n",
              "dtype: float64"
            ]
          },
          "metadata": {},
          "execution_count": 48
        }
      ]
    },
    {
      "cell_type": "markdown",
      "source": [
        "**Year**\n",
        "\n",
        "*   Most cars are manufactured between the years 2000 and 2022"
      ],
      "metadata": {
        "id": "FhawU3haeHIC"
      }
    },
    {
      "cell_type": "code",
      "source": [
        "sns.distplot(df.year)"
      ],
      "metadata": {
        "colab": {
          "base_uri": "https://localhost:8080/",
          "height": 466
        },
        "id": "gxtN5f4AeNfa",
        "outputId": "e3a99474-358e-4a29-eb2f-7f217bddc514"
      },
      "execution_count": 49,
      "outputs": [
        {
          "output_type": "execute_result",
          "data": {
            "text/plain": [
              "<Axes: xlabel='year', ylabel='Density'>"
            ]
          },
          "metadata": {},
          "execution_count": 49
        },
        {
          "output_type": "display_data",
          "data": {
            "text/plain": [
              "<Figure size 640x480 with 1 Axes>"
            ],
            "image/png": "[encoded data removed]"
          },
          "metadata": {}
        }
      ]
    },
    {
      "cell_type": "markdown",
      "source": [
        "#### **Manufacturer**\n",
        "*   There are 42 unique manufcturers\n",
        "*   Top 5 manufacturers are Ford, Chevrolet, Toyota, Honda and Jeep\n",
        "*   Manufacturer has 4% missing values\n"
      ],
      "metadata": {
        "id": "UQGhxeLeuye5"
      }
    },
    {
      "cell_type": "code",
      "source": [
        "df['manufacturer'].unique()"
      ],
      "metadata": {
        "colab": {
          "base_uri": "https://localhost:8080/"
        },
        "id": "Hz1Fdcqu00-O",
        "outputId": "cde51730-5dd9-49f2-917c-074a936fea15"
      },
      "execution_count": 50,
      "outputs": [
        {
          "output_type": "execute_result",
          "data": {
            "text/plain": [
              "array([nan, 'gmc', 'chevrolet', 'toyota', 'ford', 'jeep', 'nissan', 'ram',\n",
              "       'mazda', 'cadillac', 'honda', 'dodge', 'lexus', 'jaguar', 'buick',\n",
              "       'chrysler', 'volvo', 'audi', 'infiniti', 'lincoln', 'alfa-romeo',\n",
              "       'subaru', 'acura', 'hyundai', 'mercedes-benz', 'bmw', 'mitsubishi',\n",
              "       'volkswagen', 'porsche', 'kia', 'rover', 'ferrari', 'mini',\n",
              "       'pontiac', 'fiat', 'tesla', 'saturn', 'mercury', 'harley-davidson',\n",
              "       'datsun', 'aston-martin', 'land rover', 'morgan'], dtype=object)"
            ]
          },
          "metadata": {},
          "execution_count": 50
        }
      ]
    },
    {
      "cell_type": "code",
      "source": [
        "df['manufacturer'].value_counts().plot(kind='bar')"
      ],
      "metadata": {
        "colab": {
          "base_uri": "https://localhost:8080/",
          "height": 544
        },
        "id": "JyqRIDCrsvBK",
        "outputId": "86d0cdd1-045c-4631-8c7b-9856823ef87e"
      },
      "execution_count": 51,
      "outputs": [
        {
          "output_type": "execute_result",
          "data": {
            "text/plain": [
              "<Axes: >"
            ]
          },
          "metadata": {},
          "execution_count": 51
        },
        {
          "output_type": "display_data",
          "data": {
            "text/plain": [
              "<Figure size 640x480 with 1 Axes>"
            ],
            "image/png": "[encoded data removed]"
          },
          "metadata": {}
        }
      ]
    },
    {
      "cell_type": "markdown",
      "source": [
        "**Model**\n",
        "\n",
        "*   There are 29,649 unique car models in the dataset\n",
        "*  Model has 1% missing values"
      ],
      "metadata": {
        "id": "NQtJOp4UTp3o"
      }
    },
    {
      "cell_type": "code",
      "source": [
        "df['model'].unique()"
      ],
      "metadata": {
        "colab": {
          "base_uri": "https://localhost:8080/"
        },
        "id": "royzLgM106ds",
        "outputId": "edade9b6-f97c-4c31-cb3d-6872d8be4624"
      },
      "execution_count": 52,
      "outputs": [
        {
          "output_type": "execute_result",
          "data": {
            "text/plain": [
              "array([nan, 'sierra 1500 crew cab slt', 'silverado 1500', ...,\n",
              "       'gand wagoneer', '96 Suburban', 'Paige Glenbrook Touring'],\n",
              "      dtype=object)"
            ]
          },
          "metadata": {},
          "execution_count": 52
        }
      ]
    },
    {
      "cell_type": "markdown",
      "source": [
        "**Condition**\n",
        "\n",
        "*   Condition has 6 distinct categories\n",
        "*   48% of the cars were 'good' condition and 40% 'excellent' condition\n",
        "*   Condition has 41% values missing\n",
        "\n"
      ],
      "metadata": {
        "id": "Izpq_9KzxfzZ"
      }
    },
    {
      "cell_type": "code",
      "source": [
        "((df['condition'].value_counts()/df['condition'].count())* 100.0)"
      ],
      "metadata": {
        "colab": {
          "base_uri": "https://localhost:8080/"
        },
        "id": "ahTPAEDtxx5s",
        "outputId": "0d9d9215-0866-4d3c-a84d-8f4a7bd52f6b"
      },
      "execution_count": 53,
      "outputs": [
        {
          "output_type": "execute_result",
          "data": {
            "text/plain": [
              "good         48.048865\n",
              "excellent    40.141074\n",
              "like new      8.378169\n",
              "fair          2.677865\n",
              "new           0.516267\n",
              "salvage       0.237760\n",
              "Name: condition, dtype: float64"
            ]
          },
          "metadata": {},
          "execution_count": 53
        }
      ]
    },
    {
      "cell_type": "markdown",
      "source": [
        "**Cylinders**\n",
        "\n",
        "*   cylinders has 8 distinct categories\n",
        "*   96% of the cars has 6, 4 or 8 cylinders. 6 cylinders was the most common (~38%) followed by 4 and 8 cylinders\n",
        "* cylinders has 42% missing values\n"
      ],
      "metadata": {
        "id": "KKeczchiS6lK"
      }
    },
    {
      "cell_type": "code",
      "source": [
        "((df['cylinders'].value_counts()/df['cylinders'].count())* 100.0)"
      ],
      "metadata": {
        "colab": {
          "base_uri": "https://localhost:8080/"
        },
        "id": "dgbzmbbgSxcD",
        "outputId": "e160a593-d23f-41a8-e57e-f847cd72473e"
      },
      "execution_count": 54,
      "outputs": [
        {
          "output_type": "execute_result",
          "data": {
            "text/plain": [
              "6 cylinders     37.788220\n",
              "4 cylinders     31.156251\n",
              "8 cylinders     28.917103\n",
              "5 cylinders      0.686993\n",
              "10 cylinders     0.583864\n",
              "other            0.520863\n",
              "3 cylinders      0.262839\n",
              "12 cylinders     0.083868\n",
              "Name: cylinders, dtype: float64"
            ]
          },
          "metadata": {},
          "execution_count": 54
        }
      ]
    },
    {
      "cell_type": "markdown",
      "source": [
        "**Fuel**\n",
        "\n",
        "*   Fuel has 5 distinct categories\n",
        "*   84% of the cars were 'gas' fuel, followed by diesel/other.\n",
        "*  Fuel has a small % (0.7%) of missing values\n"
      ],
      "metadata": {
        "id": "qO19v5FDTOt9"
      }
    },
    {
      "cell_type": "code",
      "source": [
        "((df['fuel'].value_counts()/df['fuel'].count())* 100.0)"
      ],
      "metadata": {
        "colab": {
          "base_uri": "https://localhost:8080/"
        },
        "id": "LlN9R5jeTU6v",
        "outputId": "a57a6698-55a1-4dca-e737-1f93fe7994be"
      },
      "execution_count": 55,
      "outputs": [
        {
          "output_type": "execute_result",
          "data": {
            "text/plain": [
              "gas         84.037918\n",
              "other        7.249444\n",
              "diesel       7.092319\n",
              "hybrid       1.219722\n",
              "electric     0.400597\n",
              "Name: fuel, dtype: float64"
            ]
          },
          "metadata": {},
          "execution_count": 55
        }
      ]
    },
    {
      "cell_type": "markdown",
      "source": [
        "**Drive**\n",
        "\n",
        "*   Drive has 3 distinct categories\n",
        "*   44% of the has had 4wd, followerd by 35% fwd\n",
        "*  Drive has 31% of missing values"
      ],
      "metadata": {
        "id": "O_EpYDtVWSay"
      }
    },
    {
      "cell_type": "code",
      "source": [
        "((df['drive'].value_counts()/df['drive'].count())* 100.0)"
      ],
      "metadata": {
        "colab": {
          "base_uri": "https://localhost:8080/"
        },
        "id": "YGNobqwrWLys",
        "outputId": "10dc34be-218f-4a25-d4d4-63fa284b03a4"
      },
      "execution_count": 56,
      "outputs": [
        {
          "output_type": "execute_result",
          "data": {
            "text/plain": [
              "4wd    44.51509\n",
              "fwd    35.60998\n",
              "rwd    19.87493\n",
              "Name: drive, dtype: float64"
            ]
          },
          "metadata": {},
          "execution_count": 56
        }
      ]
    },
    {
      "cell_type": "markdown",
      "source": [
        "**Size**\n",
        "\n",
        "*   Size has 4 distinct categories\n",
        "*   53% of the car were 'full-size' followed by 28% mid-size and 16% compact\n",
        "* Size has 71% missing values"
      ],
      "metadata": {
        "id": "LYm4VGprXb2C"
      }
    },
    {
      "cell_type": "code",
      "source": [
        "((df['size'].value_counts()/df['size'].count())* 100.0)"
      ],
      "metadata": {
        "colab": {
          "base_uri": "https://localhost:8080/"
        },
        "id": "c0rwvMxlXjE-",
        "outputId": "31e323df-79c1-4189-b412-db338426bd01"
      },
      "execution_count": 57,
      "outputs": [
        {
          "output_type": "execute_result",
          "data": {
            "text/plain": [
              "full-size      52.659747\n",
              "mid-size       28.606278\n",
              "compact        16.083771\n",
              "sub-compact     2.650205\n",
              "Name: size, dtype: float64"
            ]
          },
          "metadata": {},
          "execution_count": 57
        }
      ]
    },
    {
      "cell_type": "markdown",
      "source": [
        "**Type**\n",
        "\n",
        "*   Type has 13 distinct categories\n",
        "*   Sedan was the most commom car type (26%) followed by SUV (23%) and pickup (13%)\n",
        "* Type has 22% missing values\n"
      ],
      "metadata": {
        "id": "h2ML3zL9X-2Z"
      }
    },
    {
      "cell_type": "code",
      "source": [
        "((df['type'].value_counts()/df['type'].count())* 100.0)"
      ],
      "metadata": {
        "colab": {
          "base_uri": "https://localhost:8080/"
        },
        "id": "AVNjc_RfX46A",
        "outputId": "bddaf19a-4d60-4fbd-f1ad-6a0785a2c670"
      },
      "execution_count": 58,
      "outputs": [
        {
          "output_type": "execute_result",
          "data": {
            "text/plain": [
              "sedan          26.062954\n",
              "SUV            23.137398\n",
              "pickup         13.026088\n",
              "truck          10.561879\n",
              "other           6.619324\n",
              "coupe           5.749322\n",
              "hatchback       4.969134\n",
              "wagon           3.218650\n",
              "van             2.559113\n",
              "convertible     2.314518\n",
              "mini-van        1.444516\n",
              "offroad         0.182323\n",
              "bus             0.154780\n",
              "Name: type, dtype: float64"
            ]
          },
          "metadata": {},
          "execution_count": 58
        }
      ]
    },
    {
      "cell_type": "markdown",
      "source": [
        "**Paint Color**\n",
        "\n",
        "*   Paint color has 13 distinct categories\n",
        "*   White was the most commom colot (26%) followed by black (21%) and silver (43%)\n",
        "* Paint color has 31% missing values"
      ],
      "metadata": {
        "id": "jkffLpQoZKnG"
      }
    },
    {
      "cell_type": "code",
      "source": [
        "((df['paint_color'].value_counts()/df['paint_color'].count())* 100.0)"
      ],
      "metadata": {
        "colab": {
          "base_uri": "https://localhost:8080/"
        },
        "id": "bJS_Fd-RNObJ",
        "outputId": "af330dbc-de94-4752-e75b-5527c746d145"
      },
      "execution_count": 59,
      "outputs": [
        {
          "output_type": "execute_result",
          "data": {
            "text/plain": [
              "white     26.724350\n",
              "black     21.188363\n",
              "silver    14.483765\n",
              "blue      10.524240\n",
              "red       10.271440\n",
              "grey       8.229826\n",
              "green      2.475082\n",
              "custom     2.258348\n",
              "brown      2.222282\n",
              "yellow     0.721997\n",
              "orange     0.668741\n",
              "purple     0.231565\n",
              "Name: paint_color, dtype: float64"
            ]
          },
          "metadata": {},
          "execution_count": 59
        }
      ]
    },
    {
      "cell_type": "markdown",
      "source": [
        "**odometer**\n",
        "\n",
        "* The distribution of odometer is right skewed with mean as 98043 and median 85548\n",
        "* odometer has 1% missing values"
      ],
      "metadata": {
        "id": "-gzI7yn-cyUT"
      }
    },
    {
      "cell_type": "code",
      "source": [
        "plt.title('Car odometer Distribution Plot')\n",
        "sns.distplot(df.odometer)"
      ],
      "metadata": {
        "colab": {
          "base_uri": "https://localhost:8080/",
          "height": 489
        },
        "id": "bf0Bes-mc3yd",
        "outputId": "a0175834-df9a-4661-b41c-9fa7bf5ecb64"
      },
      "execution_count": 60,
      "outputs": [
        {
          "output_type": "execute_result",
          "data": {
            "text/plain": [
              "<Axes: title={'center': 'Car odometer Distribution Plot'}, xlabel='odometer', ylabel='Density'>"
            ]
          },
          "metadata": {},
          "execution_count": 60
        },
        {
          "output_type": "display_data",
          "data": {
            "text/plain": [
              "<Figure size 640x480 with 1 Axes>"
            ],
            "image/png": "[encoded data removed]"
          },
          "metadata": {}
        }
      ]
    },
    {
      "cell_type": "code",
      "source": [
        "df.odometer.describe()"
      ],
      "metadata": {
        "colab": {
          "base_uri": "https://localhost:8080/"
        },
        "id": "CSBjPNlydBlN",
        "outputId": "4aebf733-9007-4ad4-ebc1-2242a6e33dad"
      },
      "execution_count": 61,
      "outputs": [
        {
          "output_type": "execute_result",
          "data": {
            "text/plain": [
              "count    4.224800e+05\n",
              "mean     9.804333e+04\n",
              "std      2.138815e+05\n",
              "min      0.000000e+00\n",
              "25%      3.770400e+04\n",
              "50%      8.554800e+04\n",
              "75%      1.335425e+05\n",
              "max      1.000000e+07\n",
              "Name: odometer, dtype: float64"
            ]
          },
          "metadata": {},
          "execution_count": 61
        }
      ]
    },
    {
      "cell_type": "markdown",
      "source": [
        "**Price**\n",
        "\n",
        "*   Price is the target variable that needs to be predicted\n",
        "*   Price has no missing values\n",
        "* The distribution of price is righ skewed with mean as 75199 and median 13950"
      ],
      "metadata": {
        "id": "JyYRfSjWcGDK"
      }
    },
    {
      "cell_type": "code",
      "execution_count": 62,
      "metadata": {
        "colab": {
          "base_uri": "https://localhost:8080/",
          "height": 489
        },
        "id": "hXHrBrnXWNDc",
        "outputId": "e43439a1-2fbc-45a7-920c-725074a55f5d"
      },
      "outputs": [
        {
          "output_type": "execute_result",
          "data": {
            "text/plain": [
              "<Axes: title={'center': 'Car Price Distribution Plot'}, xlabel='price', ylabel='Density'>"
            ]
          },
          "metadata": {},
          "execution_count": 62
        },
        {
          "output_type": "display_data",
          "data": {
            "text/plain": [
              "<Figure size 640x480 with 1 Axes>"
            ],
            "image/png": "[encoded data removed]"
          },
          "metadata": {}
        }
      ],
      "source": [
        "plt.title('Car Price Distribution Plot')\n",
        "sns.distplot(df.price)"
      ]
    },
    {
      "cell_type": "code",
      "source": [
        "df.price.describe()"
      ],
      "metadata": {
        "colab": {
          "base_uri": "https://localhost:8080/"
        },
        "id": "o4LXogdMci60",
        "outputId": "49e779e9-89b3-46cb-a422-b0c4ca047a01"
      },
      "execution_count": 63,
      "outputs": [
        {
          "output_type": "execute_result",
          "data": {
            "text/plain": [
              "count    4.268800e+05\n",
              "mean     7.519903e+04\n",
              "std      1.218228e+07\n",
              "min      0.000000e+00\n",
              "25%      5.900000e+03\n",
              "50%      1.395000e+04\n",
              "75%      2.648575e+04\n",
              "max      3.736929e+09\n",
              "Name: price, dtype: float64"
            ]
          },
          "metadata": {},
          "execution_count": 63
        }
      ]
    },
    {
      "cell_type": "code",
      "source": [
        "df['state'].unique()"
      ],
      "metadata": {
        "colab": {
          "base_uri": "https://localhost:8080/"
        },
        "id": "gaDnOdsT2Cf-",
        "outputId": "5682ced8-cdeb-4d36-8e38-32d3342330ac"
      },
      "execution_count": 64,
      "outputs": [
        {
          "output_type": "execute_result",
          "data": {
            "text/plain": [
              "array(['az', 'ar', 'fl', 'ma', 'nc', 'ny', 'or', 'pa', 'tx', 'wa', 'wi',\n",
              "       'al', 'ak', 'ca', 'co', 'ct', 'dc', 'de', 'ga', 'hi', 'id', 'il',\n",
              "       'in', 'ia', 'ks', 'ky', 'la', 'me', 'md', 'mi', 'mn', 'ms', 'mo',\n",
              "       'mt', 'ne', 'nv', 'nj', 'nm', 'nh', 'nd', 'oh', 'ok', 'ri', 'sc',\n",
              "       'sd', 'tn', 'ut', 'vt', 'va', 'wv', 'wy'], dtype=object)"
            ]
          },
          "metadata": {},
          "execution_count": 64
        }
      ]
    },
    {
      "cell_type": "markdown",
      "metadata": {
        "id": "1Q6K3xCuWNDb"
      },
      "source": [
        "### Data Preparation\n",
        "\n",
        "The next step in CRISP-DM process is data preparation. This includes engineering of new features, handling data integrity issues and cleaning, data transformations and preparing the data for modeling.  "
      ]
    },
    {
      "cell_type": "markdown",
      "source": [
        "**Fixing missing data**\n",
        "\n",
        "\n"
      ],
      "metadata": {
        "id": "DyskT7Kf2238"
      }
    },
    {
      "cell_type": "code",
      "source": [
        "# id, VIN, region, state columns can be dropped as they are not useful predictors\n",
        "# size can be dropped as it has 71% missing values\n",
        "df.drop(columns= ['id', 'VIN', 'region', 'size', 'state'], inplace=True)"
      ],
      "metadata": {
        "id": "IVTSeXycABkK"
      },
      "execution_count": 65,
      "outputs": []
    },
    {
      "cell_type": "code",
      "source": [
        "# Dropping rows that have < 5% missing values in columns\n",
        "df.dropna(subset = ['year', 'manufacturer', 'model', 'fuel', 'odometer', 'title_status', 'transmission'], inplace=True)"
      ],
      "metadata": {
        "id": "WN85vKt7JXmg"
      },
      "execution_count": 66,
      "outputs": []
    },
    {
      "cell_type": "code",
      "source": [
        "# filling the missing values for these columns as 'other'\n",
        "df[['condition', 'cylinders', 'drive', 'type', 'paint_color']] = df[['condition', 'cylinders', 'drive', 'type', 'paint_color']].fillna('other')\n",
        "(df.isnull().sum()/df.shape[0])* 100.0"
      ],
      "metadata": {
        "colab": {
          "base_uri": "https://localhost:8080/"
        },
        "id": "_SVrG9WCP_nb",
        "outputId": "cf5b88f6-3b9d-41fe-e644-eab08488d3e2"
      },
      "execution_count": 67,
      "outputs": [
        {
          "output_type": "execute_result",
          "data": {
            "text/plain": [
              "price           0.0\n",
              "year            0.0\n",
              "manufacturer    0.0\n",
              "model           0.0\n",
              "condition       0.0\n",
              "cylinders       0.0\n",
              "fuel            0.0\n",
              "odometer        0.0\n",
              "title_status    0.0\n",
              "transmission    0.0\n",
              "drive           0.0\n",
              "type            0.0\n",
              "paint_color     0.0\n",
              "dtype: float64"
            ]
          },
          "metadata": {},
          "execution_count": 67
        }
      ]
    },
    {
      "cell_type": "code",
      "source": [
        "df.shape"
      ],
      "metadata": {
        "colab": {
          "base_uri": "https://localhost:8080/"
        },
        "id": "BYTlRzq63js7",
        "outputId": "a5dc34f9-3123-4f65-dcff-9673ee7d6691"
      },
      "execution_count": 68,
      "outputs": [
        {
          "output_type": "execute_result",
          "data": {
            "text/plain": [
              "(389604, 13)"
            ]
          },
          "metadata": {},
          "execution_count": 68
        }
      ]
    },
    {
      "cell_type": "markdown",
      "source": [
        "After removing some of the missing data and filling in for missing values for some columns, the dataset now has 389K rows and 15 columns"
      ],
      "metadata": {
        "id": "VQ8ob8BF3Pxq"
      }
    },
    {
      "cell_type": "markdown",
      "source": [
        "**Adding a new feature**"
      ],
      "metadata": {
        "id": "v3IjtU5HGPxO"
      }
    },
    {
      "cell_type": "code",
      "execution_count": 69,
      "metadata": {
        "id": "JaYYBa0aWNDc"
      },
      "outputs": [],
      "source": [
        "#Creating a new feature age to calculate the age of the car and dropping year column\n",
        "df['age'] = date.today().year - df['year']\n",
        "df.drop(['year'], axis=1, inplace=True)"
      ]
    },
    {
      "cell_type": "markdown",
      "source": [
        "**Fixing for outliers**"
      ],
      "metadata": {
        "id": "M6Qk-lE8f9Md"
      }
    },
    {
      "cell_type": "code",
      "source": [
        "# Removing the 99th percentile outliers in price to view the distribution better\n",
        "df = df[df['price'] <= df['price'].quantile(0.99)]"
      ],
      "metadata": {
        "id": "1B_OhQnyhunf"
      },
      "execution_count": 70,
      "outputs": []
    },
    {
      "cell_type": "code",
      "source": [
        "plt.title('Car Price Distribution Plot')\n",
        "sns.distplot(df.price)"
      ],
      "metadata": {
        "colab": {
          "base_uri": "https://localhost:8080/",
          "height": 489
        },
        "id": "3-NKNvgihqLp",
        "outputId": "002ca41a-3277-445c-9116-ba3b35a0c842"
      },
      "execution_count": 71,
      "outputs": [
        {
          "output_type": "execute_result",
          "data": {
            "text/plain": [
              "<Axes: title={'center': 'Car Price Distribution Plot'}, xlabel='price', ylabel='Density'>"
            ]
          },
          "metadata": {},
          "execution_count": 71
        },
        {
          "output_type": "display_data",
          "data": {
            "text/plain": [
              "<Figure size 640x480 with 1 Axes>"
            ],
            "image/png": "[encoded data removed]"
          },
          "metadata": {}
        }
      ]
    },
    {
      "cell_type": "code",
      "source": [
        "df['price'].describe()"
      ],
      "metadata": {
        "colab": {
          "base_uri": "https://localhost:8080/"
        },
        "id": "tUOeRDbdihtv",
        "outputId": "832f076d-ad87-4cd0-cc3c-00891af33ad9"
      },
      "execution_count": 72,
      "outputs": [
        {
          "output_type": "execute_result",
          "data": {
            "text/plain": [
              "count    385786.000000\n",
              "mean      16891.533773\n",
              "std       13591.209308\n",
              "min           0.000000\n",
              "25%        5995.000000\n",
              "50%       13988.000000\n",
              "75%       25991.000000\n",
              "max       64999.000000\n",
              "Name: price, dtype: float64"
            ]
          },
          "metadata": {},
          "execution_count": 72
        }
      ]
    },
    {
      "cell_type": "markdown",
      "source": [
        "**Price**\n",
        "\n",
        "After removing the outliers in price, the distribution is more comprehensible\n",
        "\n",
        "* Mean price of car sold is USD 16,891 and median price sold is USD 13,988   \n",
        "* The distribution of prices is right skewed, with mean greater than the median.\n",
        "* 50% of cars have a price below USD 14,000 while the other half has a price between USD 14,000 - 65,000"
      ],
      "metadata": {
        "id": "bfhYOce0sww_"
      }
    },
    {
      "cell_type": "code",
      "source": [
        "df.dtypes"
      ],
      "metadata": {
        "colab": {
          "base_uri": "https://localhost:8080/"
        },
        "id": "389AlPksCZXO",
        "outputId": "128a7e5d-2ed3-4f49-d62e-85f8ee551f9d"
      },
      "execution_count": 73,
      "outputs": [
        {
          "output_type": "execute_result",
          "data": {
            "text/plain": [
              "price             int64\n",
              "manufacturer     object\n",
              "model            object\n",
              "condition        object\n",
              "cylinders        object\n",
              "fuel             object\n",
              "odometer        float64\n",
              "title_status     object\n",
              "transmission     object\n",
              "drive            object\n",
              "type             object\n",
              "paint_color      object\n",
              "age             float64\n",
              "dtype: object"
            ]
          },
          "metadata": {},
          "execution_count": 73
        }
      ]
    },
    {
      "cell_type": "markdown",
      "source": [
        "**Comparing Price with the input features**"
      ],
      "metadata": {
        "id": "MlTCsuxxS1l5"
      }
    },
    {
      "cell_type": "code",
      "source": [
        "# Price vs Manufacturer\n",
        "sns.barplot(x= 'condition', y='price', data=df)\n",
        "plt.xticks(rotation=45)\n",
        "plt.show()"
      ],
      "metadata": {
        "colab": {
          "base_uri": "https://localhost:8080/",
          "height": 490
        },
        "id": "IaqBa1KURoEu",
        "outputId": "1ed40413-4ece-4367-fb9b-2ebb65f0e99f"
      },
      "execution_count": 74,
      "outputs": [
        {
          "output_type": "display_data",
          "data": {
            "text/plain": [
              "<Figure size 640x480 with 1 Axes>"
            ],
            "image/png": "[encoded data removed]"
          },
          "metadata": {}
        }
      ]
    },
    {
      "cell_type": "markdown",
      "source": [
        "\"Good\" condition cars have the highest average price and salvage/fair conditionc ars have lower prices"
      ],
      "metadata": {
        "id": "XuiO5acVWrH-"
      }
    },
    {
      "cell_type": "code",
      "source": [
        "# Price vs Fuel\n",
        "sns.barplot(x= 'fuel', y='price', data=df)\n",
        "plt.xticks(rotation=45)\n",
        "plt.show()"
      ],
      "metadata": {
        "colab": {
          "base_uri": "https://localhost:8080/",
          "height": 482
        },
        "id": "6wJP7p1qQ_o_",
        "outputId": "70be5c38-1933-443e-ba0b-fe19c5db5a2f"
      },
      "execution_count": 75,
      "outputs": [
        {
          "output_type": "display_data",
          "data": {
            "text/plain": [
              "<Figure size 640x480 with 1 Axes>"
            ],
            "image/png": "[encoded data removed]"
          },
          "metadata": {}
        }
      ]
    },
    {
      "cell_type": "markdown",
      "source": [
        "Hybrid cars cost the lowest while diesel cars cost the highest. Electric cars cost more than gas."
      ],
      "metadata": {
        "id": "VgZ2oJUMXQnt"
      }
    },
    {
      "cell_type": "code",
      "source": [
        "sns.barplot(x= 'transmission', y='price', data=df)\n",
        "plt.xticks(rotation=45)\n",
        "plt.show()"
      ],
      "metadata": {
        "colab": {
          "base_uri": "https://localhost:8080/",
          "height": 495
        },
        "id": "9JloATFoXbB9",
        "outputId": "2cc1c6a4-a8e8-4d04-f374-ecf0c97ad149"
      },
      "execution_count": 76,
      "outputs": [
        {
          "output_type": "display_data",
          "data": {
            "text/plain": [
              "<Figure size 640x480 with 1 Axes>"
            ],
            "image/png": "[encoded data removed]"
          },
          "metadata": {}
        }
      ]
    },
    {
      "cell_type": "code",
      "source": [
        "sns.barplot(x= 'paint_color', y='price', data=df)\n",
        "plt.xticks(rotation=45)\n",
        "plt.show()"
      ],
      "metadata": {
        "colab": {
          "base_uri": "https://localhost:8080/",
          "height": 481
        },
        "id": "1dEVJ7EyvRPG",
        "outputId": "874c2b14-7e77-4f7f-a9ca-41016533b7c7"
      },
      "execution_count": 77,
      "outputs": [
        {
          "output_type": "display_data",
          "data": {
            "text/plain": [
              "<Figure size 640x480 with 1 Axes>"
            ],
            "image/png": "[encoded data removed]"
          },
          "metadata": {}
        }
      ]
    },
    {
      "cell_type": "markdown",
      "source": [
        "Manual tranmission cars have lower prices than automatic and other transmisson types."
      ],
      "metadata": {
        "id": "h7xt7LnPXwLU"
      }
    },
    {
      "cell_type": "code",
      "source": [
        "sns.scatterplot(x= 'age', y='price', data=df)\n",
        "plt.xticks(rotation=45)\n",
        "plt.show()"
      ],
      "metadata": {
        "colab": {
          "base_uri": "https://localhost:8080/",
          "height": 464
        },
        "id": "gDKmqsY5DM3U",
        "outputId": "30f6327e-ffdf-45b3-e07c-6b3055b5dd08"
      },
      "execution_count": 78,
      "outputs": [
        {
          "output_type": "display_data",
          "data": {
            "text/plain": [
              "<Figure size 640x480 with 1 Axes>"
            ],
            "image/png": "[encoded data removed]"
          },
          "metadata": {}
        }
      ]
    },
    {
      "cell_type": "code",
      "source": [
        "sns.scatterplot(x= 'odometer', y='price', data=df)\n",
        "plt.xticks(rotation=45)\n",
        "plt.show()"
      ],
      "metadata": {
        "colab": {
          "base_uri": "https://localhost:8080/",
          "height": 461
        },
        "id": "KDeCRfpEGd85",
        "outputId": "863ed1a8-dfce-41a5-f784-10f93f5db69b"
      },
      "execution_count": 79,
      "outputs": [
        {
          "output_type": "display_data",
          "data": {
            "text/plain": [
              "<Figure size 640x480 with 1 Axes>"
            ],
            "image/png": "[encoded data removed]"
          },
          "metadata": {}
        }
      ]
    },
    {
      "cell_type": "markdown",
      "source": [
        "**Encoding the categorical variables**"
      ],
      "metadata": {
        "id": "uZEHTzGcA07P"
      }
    },
    {
      "cell_type": "code",
      "source": [
        "numeric_features = ['age', 'odometer' ]\n",
        "categorical_features = ['model', 'manufacturer', 'paint_color', 'condition','cylinders', 'fuel', 'title_status', 'transmission'\n",
        "                         ,'drive' ,'type']\n",
        "label_encoder = preprocessing.LabelEncoder()\n",
        "df[categorical_features] = df[categorical_features].apply(label_encoder.fit_transform)"
      ],
      "metadata": {
        "id": "Xa3NJH3UscVI"
      },
      "execution_count": 80,
      "outputs": []
    },
    {
      "cell_type": "code",
      "source": [
        "df.head()"
      ],
      "metadata": {
        "colab": {
          "base_uri": "https://localhost:8080/",
          "height": 206
        },
        "id": "9bKbPtGAJ0Rg",
        "outputId": "6b68432d-37c8-463b-bee9-30a704c641bb"
      },
      "execution_count": 81,
      "outputs": [
        {
          "output_type": "execute_result",
          "data": {
            "text/plain": [
              "    price  manufacturer  model  condition  cylinders  fuel  odometer  \\\n",
              "27  33590            14  16876          2          6     2   57923.0   \n",
              "28  22590             7  17238          2          6     2   71229.0   \n",
              "29  39590             7  17263          2          6     2   19160.0   \n",
              "30  30990            38  19918          2          6     2   41124.0   \n",
              "31  15000            13   8603          0          5     2  128000.0   \n",
              "\n",
              "    title_status  transmission  drive  type  paint_color   age  \n",
              "27             0             2      2     8           11   9.0  \n",
              "28             0             2      2     8            1  13.0  \n",
              "29             0             2      2     8            9   3.0  \n",
              "30             0             2      2     8            9   6.0  \n",
              "31             0             0      3    10            0  10.0  "
            ],
            "text/html": [
              "\n",
              "  <div id=\"df-3b62997a-1f3b-4137-b05f-b2c443039b64\" class=\"colab-df-container\">\n",
              "    <div>\n",
              "<style scoped>\n",
              "    .dataframe tbody tr th:only-of-type {\n",
              "        vertical-align: middle;\n",
              "    }\n",
              "\n",
              "    .dataframe tbody tr th {\n",
              "        vertical-align: top;\n",
              "    }\n",
              "\n",
              "    .dataframe thead th {\n",
              "        text-align: right;\n",
              "    }\n",
              "</style>\n",
              "<table border=\"1\" class=\"dataframe\">\n",
              "  <thead>\n",
              "    <tr style=\"text-align: right;\">\n",
              "      <th></th>\n",
              "      <th>price</th>\n",
              "      <th>manufacturer</th>\n",
              "      <th>model</th>\n",
              "      <th>condition</th>\n",
              "      <th>cylinders</th>\n",
              "      <th>fuel</th>\n",
              "      <th>odometer</th>\n",
              "      <th>title_status</th>\n",
              "      <th>transmission</th>\n",
              "      <th>drive</th>\n",
              "      <th>type</th>\n",
              "      <th>paint_color</th>\n",
              "      <th>age</th>\n",
              "    </tr>\n",
              "  </thead>\n",
              "  <tbody>\n",
              "    <tr>\n",
              "      <th>27</th>\n",
              "      <td>33590</td>\n",
              "      <td>14</td>\n",
              "      <td>16876</td>\n",
              "      <td>2</td>\n",
              "      <td>6</td>\n",
              "      <td>2</td>\n",
              "      <td>57923.0</td>\n",
              "      <td>0</td>\n",
              "      <td>2</td>\n",
              "      <td>2</td>\n",
              "      <td>8</td>\n",
              "      <td>11</td>\n",
              "      <td>9.0</td>\n",
              "    </tr>\n",
              "    <tr>\n",
              "      <th>28</th>\n",
              "      <td>22590</td>\n",
              "      <td>7</td>\n",
              "      <td>17238</td>\n",
              "      <td>2</td>\n",
              "      <td>6</td>\n",
              "      <td>2</td>\n",
              "      <td>71229.0</td>\n",
              "      <td>0</td>\n",
              "      <td>2</td>\n",
              "      <td>2</td>\n",
              "      <td>8</td>\n",
              "      <td>1</td>\n",
              "      <td>13.0</td>\n",
              "    </tr>\n",
              "    <tr>\n",
              "      <th>29</th>\n",
              "      <td>39590</td>\n",
              "      <td>7</td>\n",
              "      <td>17263</td>\n",
              "      <td>2</td>\n",
              "      <td>6</td>\n",
              "      <td>2</td>\n",
              "      <td>19160.0</td>\n",
              "      <td>0</td>\n",
              "      <td>2</td>\n",
              "      <td>2</td>\n",
              "      <td>8</td>\n",
              "      <td>9</td>\n",
              "      <td>3.0</td>\n",
              "    </tr>\n",
              "    <tr>\n",
              "      <th>30</th>\n",
              "      <td>30990</td>\n",
              "      <td>38</td>\n",
              "      <td>19918</td>\n",
              "      <td>2</td>\n",
              "      <td>6</td>\n",
              "      <td>2</td>\n",
              "      <td>41124.0</td>\n",
              "      <td>0</td>\n",
              "      <td>2</td>\n",
              "      <td>2</td>\n",
              "      <td>8</td>\n",
              "      <td>9</td>\n",
              "      <td>6.0</td>\n",
              "    </tr>\n",
              "    <tr>\n",
              "      <th>31</th>\n",
              "      <td>15000</td>\n",
              "      <td>13</td>\n",
              "      <td>8603</td>\n",
              "      <td>0</td>\n",
              "      <td>5</td>\n",
              "      <td>2</td>\n",
              "      <td>128000.0</td>\n",
              "      <td>0</td>\n",
              "      <td>0</td>\n",
              "      <td>3</td>\n",
              "      <td>10</td>\n",
              "      <td>0</td>\n",
              "      <td>10.0</td>\n",
              "    </tr>\n",
              "  </tbody>\n",
              "</table>\n",
              "</div>\n",
              "    <div class=\"colab-df-buttons\">\n",
              "\n",
              "  <div class=\"colab-df-container\">\n",
              "    <button class=\"colab-df-convert\" onclick=\"convertToInteractive('df-3b62997a-1f3b-4137-b05f-b2c443039b64')\"\n",
              "            title=\"Convert this dataframe to an interactive table.\"\n",
              "            style=\"display:none;\">\n",
              "\n",
              "  <svg xmlns=\"http://www.w3.org/2000/svg\" height=\"24px\" viewBox=\"0 -960 960 960\">\n",
              "    <path d=\"M120-120v-720h720v720H120Zm60-500h600v-160H180v160Zm220 220h160v-160H400v160Zm0 220h160v-160H400v160ZM180-400h160v-160H180v160Zm440 0h160v-160H620v160ZM180-180h160v-160H180v160Zm440 0h160v-160H620v160Z\"/>\n",
              "  </svg>\n",
              "    </button>\n",
              "\n",
              "  <style>\n",
              "    .colab-df-container {\n",
              "      display:flex;\n",
              "      gap: 12px;\n",
              "    }\n",
              "\n",
              "    .colab-df-convert {\n",
              "      background-color: #E8F0FE;\n",
              "      border: none;\n",
              "      border-radius: 50%;\n",
              "      cursor: pointer;\n",
              "      display: none;\n",
              "      fill: #1967D2;\n",
              "      height: 32px;\n",
              "      padding: 0 0 0 0;\n",
              "      width: 32px;\n",
              "    }\n",
              "\n",
              "    .colab-df-convert:hover {\n",
              "      background-color: #E2EBFA;\n",
              "      box-shadow: 0px 1px 2px rgba(60, 64, 67, 0.3), 0px 1px 3px 1px rgba(60, 64, 67, 0.15);\n",
              "      fill: #174EA6;\n",
              "    }\n",
              "\n",
              "    .colab-df-buttons div {\n",
              "      margin-bottom: 4px;\n",
              "    }\n",
              "\n",
              "    [theme=dark] .colab-df-convert {\n",
              "      background-color: #3B4455;\n",
              "      fill: #D2E3FC;\n",
              "    }\n",
              "\n",
              "    [theme=dark] .colab-df-convert:hover {\n",
              "      background-color: #434B5C;\n",
              "      box-shadow: 0px 1px 3px 1px rgba(0, 0, 0, 0.15);\n",
              "      filter: drop-shadow(0px 1px 2px rgba(0, 0, 0, 0.3));\n",
              "      fill: #FFFFFF;\n",
              "    }\n",
              "  </style>\n",
              "\n",
              "    <script>\n",
              "      const buttonEl =\n",
              "        document.querySelector('#df-3b62997a-1f3b-4137-b05f-b2c443039b64 button.colab-df-convert');\n",
              "      buttonEl.style.display =\n",
              "        google.colab.kernel.accessAllowed ? 'block' : 'none';\n",
              "\n",
              "      async function convertToInteractive(key) {\n",
              "        const element = document.querySelector('#df-3b62997a-1f3b-4137-b05f-b2c443039b64');\n",
              "        const dataTable =\n",
              "          await google.colab.kernel.invokeFunction('convertToInteractive',\n",
              "                                                    [key], {});\n",
              "        if (!dataTable) return;\n",
              "\n",
              "        const docLinkHtml = 'Like what you see? Visit the ' +\n",
              "          '<a target=\"_blank\" href=https://colab.research.google.com/notebooks/data_table.ipynb>data table notebook</a>'\n",
              "          + ' to learn more about interactive tables.';\n",
              "        element.innerHTML = '';\n",
              "        dataTable['output_type'] = 'display_data';\n",
              "        await google.colab.output.renderOutput(dataTable, element);\n",
              "        const docLink = document.createElement('div');\n",
              "        docLink.innerHTML = docLinkHtml;\n",
              "        element.appendChild(docLink);\n",
              "      }\n",
              "    </script>\n",
              "  </div>\n",
              "\n",
              "\n",
              "<div id=\"df-c6f371d2-11ef-4274-9786-a77287e87745\">\n",
              "  <button class=\"colab-df-quickchart\" onclick=\"quickchart('df-c6f371d2-11ef-4274-9786-a77287e87745')\"\n",
              "            title=\"Suggest charts.\"\n",
              "            style=\"display:none;\">\n",
              "\n",
              "<svg xmlns=\"http://www.w3.org/2000/svg\" height=\"24px\"viewBox=\"0 0 24 24\"\n",
              "     width=\"24px\">\n",
              "    <g>\n",
              "        <path d=\"M19 3H5c-1.1 0-2 .9-2 2v14c0 1.1.9 2 2 2h14c1.1 0 2-.9 2-2V5c0-1.1-.9-2-2-2zM9 17H7v-7h2v7zm4 0h-2V7h2v10zm4 0h-2v-4h2v4z\"/>\n",
              "    </g>\n",
              "</svg>\n",
              "  </button>\n",
              "\n",
              "<style>\n",
              "  .colab-df-quickchart {\n",
              "      --bg-color: #E8F0FE;\n",
              "      --fill-color: #1967D2;\n",
              "      --hover-bg-color: #E2EBFA;\n",
              "      --hover-fill-color: #174EA6;\n",
              "      --disabled-fill-color: #AAA;\n",
              "      --disabled-bg-color: #DDD;\n",
              "  }\n",
              "\n",
              "  [theme=dark] .colab-df-quickchart {\n",
              "      --bg-color: #3B4455;\n",
              "      --fill-color: #D2E3FC;\n",
              "      --hover-bg-color: #434B5C;\n",
              "      --hover-fill-color: #FFFFFF;\n",
              "      --disabled-bg-color: #3B4455;\n",
              "      --disabled-fill-color: #666;\n",
              "  }\n",
              "\n",
              "  .colab-df-quickchart {\n",
              "    background-color: var(--bg-color);\n",
              "    border: none;\n",
              "    border-radius: 50%;\n",
              "    cursor: pointer;\n",
              "    display: none;\n",
              "    fill: var(--fill-color);\n",
              "    height: 32px;\n",
              "    padding: 0;\n",
              "    width: 32px;\n",
              "  }\n",
              "\n",
              "  .colab-df-quickchart:hover {\n",
              "    background-color: var(--hover-bg-color);\n",
              "    box-shadow: 0 1px 2px rgba(60, 64, 67, 0.3), 0 1px 3px 1px rgba(60, 64, 67, 0.15);\n",
              "    fill: var(--button-hover-fill-color);\n",
              "  }\n",
              "\n",
              "  .colab-df-quickchart-complete:disabled,\n",
              "  .colab-df-quickchart-complete:disabled:hover {\n",
              "    background-color: var(--disabled-bg-color);\n",
              "    fill: var(--disabled-fill-color);\n",
              "    box-shadow: none;\n",
              "  }\n",
              "\n",
              "  .colab-df-spinner {\n",
              "    border: 2px solid var(--fill-color);\n",
              "    border-color: transparent;\n",
              "    border-bottom-color: var(--fill-color);\n",
              "    animation:\n",
              "      spin 1s steps(1) infinite;\n",
              "  }\n",
              "\n",
              "  @keyframes spin {\n",
              "    0% {\n",
              "      border-color: transparent;\n",
              "      border-bottom-color: var(--fill-color);\n",
              "      border-left-color: var(--fill-color);\n",
              "    }\n",
              "    20% {\n",
              "      border-color: transparent;\n",
              "      border-left-color: var(--fill-color);\n",
              "      border-top-color: var(--fill-color);\n",
              "    }\n",
              "    30% {\n",
              "      border-color: transparent;\n",
              "      border-left-color: var(--fill-color);\n",
              "      border-top-color: var(--fill-color);\n",
              "      border-right-color: var(--fill-color);\n",
              "    }\n",
              "    40% {\n",
              "      border-color: transparent;\n",
              "      border-right-color: var(--fill-color);\n",
              "      border-top-color: var(--fill-color);\n",
              "    }\n",
              "    60% {\n",
              "      border-color: transparent;\n",
              "      border-right-color: var(--fill-color);\n",
              "    }\n",
              "    80% {\n",
              "      border-color: transparent;\n",
              "      border-right-color: var(--fill-color);\n",
              "      border-bottom-color: var(--fill-color);\n",
              "    }\n",
              "    90% {\n",
              "      border-color: transparent;\n",
              "      border-bottom-color: var(--fill-color);\n",
              "    }\n",
              "  }\n",
              "</style>\n",
              "\n",
              "  <script>\n",
              "    async function quickchart(key) {\n",
              "      const quickchartButtonEl =\n",
              "        document.querySelector('#' + key + ' button');\n",
              "      quickchartButtonEl.disabled = true;  // To prevent multiple clicks.\n",
              "      quickchartButtonEl.classList.add('colab-df-spinner');\n",
              "      try {\n",
              "        const charts = await google.colab.kernel.invokeFunction(\n",
              "            'suggestCharts', [key], {});\n",
              "      } catch (error) {\n",
              "        console.error('Error during call to suggestCharts:', error);\n",
              "      }\n",
              "      quickchartButtonEl.classList.remove('colab-df-spinner');\n",
              "      quickchartButtonEl.classList.add('colab-df-quickchart-complete');\n",
              "    }\n",
              "    (() => {\n",
              "      let quickchartButtonEl =\n",
              "        document.querySelector('#df-c6f371d2-11ef-4274-9786-a77287e87745 button');\n",
              "      quickchartButtonEl.style.display =\n",
              "        google.colab.kernel.accessAllowed ? 'block' : 'none';\n",
              "    })();\n",
              "  </script>\n",
              "</div>\n",
              "    </div>\n",
              "  </div>\n"
            ]
          },
          "metadata": {},
          "execution_count": 81
        }
      ]
    },
    {
      "cell_type": "code",
      "source": [
        "# Normalizing numeric columns\n",
        "scaler = StandardScaler()\n",
        "df[numeric_features] = scaler.fit_transform(df[numeric_features])\n",
        "df.head()"
      ],
      "metadata": {
        "id": "RPHbZbDwsc19",
        "colab": {
          "base_uri": "https://localhost:8080/",
          "height": 206
        },
        "outputId": "9e517ca9-510b-4d67-ce19-77282ecef806"
      },
      "execution_count": 88,
      "outputs": [
        {
          "output_type": "execute_result",
          "data": {
            "text/plain": [
              "    price  manufacturer  model  condition  cylinders  fuel  odometer  \\\n",
              "27  33590            14  16876          2          6     2 -0.203401   \n",
              "28  22590             7  17238          2          6     2 -0.134169   \n",
              "29  39590             7  17263          2          6     2 -0.405089   \n",
              "30  30990            38  19918          2          6     2 -0.290808   \n",
              "31  15000            13   8603          0          5     2  0.161216   \n",
              "\n",
              "    title_status  transmission  drive  type  paint_color       age  \n",
              "27             0             2      2     8           11 -0.282955  \n",
              "28             0             2      2     8            1  0.183355  \n",
              "29             0             2      2     8            9 -0.982419  \n",
              "30             0             2      2     8            9 -0.632687  \n",
              "31             0             0      3    10            0 -0.166377  "
            ],
            "text/html": [
              "\n",
              "  <div id=\"df-3126a746-9862-499b-9bca-576d98166cdf\" class=\"colab-df-container\">\n",
              "    <div>\n",
              "<style scoped>\n",
              "    .dataframe tbody tr th:only-of-type {\n",
              "        vertical-align: middle;\n",
              "    }\n",
              "\n",
              "    .dataframe tbody tr th {\n",
              "        vertical-align: top;\n",
              "    }\n",
              "\n",
              "    .dataframe thead th {\n",
              "        text-align: right;\n",
              "    }\n",
              "</style>\n",
              "<table border=\"1\" class=\"dataframe\">\n",
              "  <thead>\n",
              "    <tr style=\"text-align: right;\">\n",
              "      <th></th>\n",
              "      <th>price</th>\n",
              "      <th>manufacturer</th>\n",
              "      <th>model</th>\n",
              "      <th>condition</th>\n",
              "      <th>cylinders</th>\n",
              "      <th>fuel</th>\n",
              "      <th>odometer</th>\n",
              "      <th>title_status</th>\n",
              "      <th>transmission</th>\n",
              "      <th>drive</th>\n",
              "      <th>type</th>\n",
              "      <th>paint_color</th>\n",
              "      <th>age</th>\n",
              "    </tr>\n",
              "  </thead>\n",
              "  <tbody>\n",
              "    <tr>\n",
              "      <th>27</th>\n",
              "      <td>33590</td>\n",
              "      <td>14</td>\n",
              "      <td>16876</td>\n",
              "      <td>2</td>\n",
              "      <td>6</td>\n",
              "      <td>2</td>\n",
              "      <td>-0.203401</td>\n",
              "      <td>0</td>\n",
              "      <td>2</td>\n",
              "      <td>2</td>\n",
              "      <td>8</td>\n",
              "      <td>11</td>\n",
              "      <td>-0.282955</td>\n",
              "    </tr>\n",
              "    <tr>\n",
              "      <th>28</th>\n",
              "      <td>22590</td>\n",
              "      <td>7</td>\n",
              "      <td>17238</td>\n",
              "      <td>2</td>\n",
              "      <td>6</td>\n",
              "      <td>2</td>\n",
              "      <td>-0.134169</td>\n",
              "      <td>0</td>\n",
              "      <td>2</td>\n",
              "      <td>2</td>\n",
              "      <td>8</td>\n",
              "      <td>1</td>\n",
              "      <td>0.183355</td>\n",
              "    </tr>\n",
              "    <tr>\n",
              "      <th>29</th>\n",
              "      <td>39590</td>\n",
              "      <td>7</td>\n",
              "      <td>17263</td>\n",
              "      <td>2</td>\n",
              "      <td>6</td>\n",
              "      <td>2</td>\n",
              "      <td>-0.405089</td>\n",
              "      <td>0</td>\n",
              "      <td>2</td>\n",
              "      <td>2</td>\n",
              "      <td>8</td>\n",
              "      <td>9</td>\n",
              "      <td>-0.982419</td>\n",
              "    </tr>\n",
              "    <tr>\n",
              "      <th>30</th>\n",
              "      <td>30990</td>\n",
              "      <td>38</td>\n",
              "      <td>19918</td>\n",
              "      <td>2</td>\n",
              "      <td>6</td>\n",
              "      <td>2</td>\n",
              "      <td>-0.290808</td>\n",
              "      <td>0</td>\n",
              "      <td>2</td>\n",
              "      <td>2</td>\n",
              "      <td>8</td>\n",
              "      <td>9</td>\n",
              "      <td>-0.632687</td>\n",
              "    </tr>\n",
              "    <tr>\n",
              "      <th>31</th>\n",
              "      <td>15000</td>\n",
              "      <td>13</td>\n",
              "      <td>8603</td>\n",
              "      <td>0</td>\n",
              "      <td>5</td>\n",
              "      <td>2</td>\n",
              "      <td>0.161216</td>\n",
              "      <td>0</td>\n",
              "      <td>0</td>\n",
              "      <td>3</td>\n",
              "      <td>10</td>\n",
              "      <td>0</td>\n",
              "      <td>-0.166377</td>\n",
              "    </tr>\n",
              "  </tbody>\n",
              "</table>\n",
              "</div>\n",
              "    <div class=\"colab-df-buttons\">\n",
              "\n",
              "  <div class=\"colab-df-container\">\n",
              "    <button class=\"colab-df-convert\" onclick=\"convertToInteractive('df-3126a746-9862-499b-9bca-576d98166cdf')\"\n",
              "            title=\"Convert this dataframe to an interactive table.\"\n",
              "            style=\"display:none;\">\n",
              "\n",
              "  <svg xmlns=\"http://www.w3.org/2000/svg\" height=\"24px\" viewBox=\"0 -960 960 960\">\n",
              "    <path d=\"M120-120v-720h720v720H120Zm60-500h600v-160H180v160Zm220 220h160v-160H400v160Zm0 220h160v-160H400v160ZM180-400h160v-160H180v160Zm440 0h160v-160H620v160ZM180-180h160v-160H180v160Zm440 0h160v-160H620v160Z\"/>\n",
              "  </svg>\n",
              "    </button>\n",
              "\n",
              "  <style>\n",
              "    .colab-df-container {\n",
              "      display:flex;\n",
              "      gap: 12px;\n",
              "    }\n",
              "\n",
              "    .colab-df-convert {\n",
              "      background-color: #E8F0FE;\n",
              "      border: none;\n",
              "      border-radius: 50%;\n",
              "      cursor: pointer;\n",
              "      display: none;\n",
              "      fill: #1967D2;\n",
              "      height: 32px;\n",
              "      padding: 0 0 0 0;\n",
              "      width: 32px;\n",
              "    }\n",
              "\n",
              "    .colab-df-convert:hover {\n",
              "      background-color: #E2EBFA;\n",
              "      box-shadow: 0px 1px 2px rgba(60, 64, 67, 0.3), 0px 1px 3px 1px rgba(60, 64, 67, 0.15);\n",
              "      fill: #174EA6;\n",
              "    }\n",
              "\n",
              "    .colab-df-buttons div {\n",
              "      margin-bottom: 4px;\n",
              "    }\n",
              "\n",
              "    [theme=dark] .colab-df-convert {\n",
              "      background-color: #3B4455;\n",
              "      fill: #D2E3FC;\n",
              "    }\n",
              "\n",
              "    [theme=dark] .colab-df-convert:hover {\n",
              "      background-color: #434B5C;\n",
              "      box-shadow: 0px 1px 3px 1px rgba(0, 0, 0, 0.15);\n",
              "      filter: drop-shadow(0px 1px 2px rgba(0, 0, 0, 0.3));\n",
              "      fill: #FFFFFF;\n",
              "    }\n",
              "  </style>\n",
              "\n",
              "    <script>\n",
              "      const buttonEl =\n",
              "        document.querySelector('#df-3126a746-9862-499b-9bca-576d98166cdf button.colab-df-convert');\n",
              "      buttonEl.style.display =\n",
              "        google.colab.kernel.accessAllowed ? 'block' : 'none';\n",
              "\n",
              "      async function convertToInteractive(key) {\n",
              "        const element = document.querySelector('#df-3126a746-9862-499b-9bca-576d98166cdf');\n",
              "        const dataTable =\n",
              "          await google.colab.kernel.invokeFunction('convertToInteractive',\n",
              "                                                    [key], {});\n",
              "        if (!dataTable) return;\n",
              "\n",
              "        const docLinkHtml = 'Like what you see? Visit the ' +\n",
              "          '<a target=\"_blank\" href=https://colab.research.google.com/notebooks/data_table.ipynb>data table notebook</a>'\n",
              "          + ' to learn more about interactive tables.';\n",
              "        element.innerHTML = '';\n",
              "        dataTable['output_type'] = 'display_data';\n",
              "        await google.colab.output.renderOutput(dataTable, element);\n",
              "        const docLink = document.createElement('div');\n",
              "        docLink.innerHTML = docLinkHtml;\n",
              "        element.appendChild(docLink);\n",
              "      }\n",
              "    </script>\n",
              "  </div>\n",
              "\n",
              "\n",
              "<div id=\"df-57162a6b-a298-42ec-bd8c-b0a27c8544db\">\n",
              "  <button class=\"colab-df-quickchart\" onclick=\"quickchart('df-57162a6b-a298-42ec-bd8c-b0a27c8544db')\"\n",
              "            title=\"Suggest charts.\"\n",
              "            style=\"display:none;\">\n",
              "\n",
              "<svg xmlns=\"http://www.w3.org/2000/svg\" height=\"24px\"viewBox=\"0 0 24 24\"\n",
              "     width=\"24px\">\n",
              "    <g>\n",
              "        <path d=\"M19 3H5c-1.1 0-2 .9-2 2v14c0 1.1.9 2 2 2h14c1.1 0 2-.9 2-2V5c0-1.1-.9-2-2-2zM9 17H7v-7h2v7zm4 0h-2V7h2v10zm4 0h-2v-4h2v4z\"/>\n",
              "    </g>\n",
              "</svg>\n",
              "  </button>\n",
              "\n",
              "<style>\n",
              "  .colab-df-quickchart {\n",
              "      --bg-color: #E8F0FE;\n",
              "      --fill-color: #1967D2;\n",
              "      --hover-bg-color: #E2EBFA;\n",
              "      --hover-fill-color: #174EA6;\n",
              "      --disabled-fill-color: #AAA;\n",
              "      --disabled-bg-color: #DDD;\n",
              "  }\n",
              "\n",
              "  [theme=dark] .colab-df-quickchart {\n",
              "      --bg-color: #3B4455;\n",
              "      --fill-color: #D2E3FC;\n",
              "      --hover-bg-color: #434B5C;\n",
              "      --hover-fill-color: #FFFFFF;\n",
              "      --disabled-bg-color: #3B4455;\n",
              "      --disabled-fill-color: #666;\n",
              "  }\n",
              "\n",
              "  .colab-df-quickchart {\n",
              "    background-color: var(--bg-color);\n",
              "    border: none;\n",
              "    border-radius: 50%;\n",
              "    cursor: pointer;\n",
              "    display: none;\n",
              "    fill: var(--fill-color);\n",
              "    height: 32px;\n",
              "    padding: 0;\n",
              "    width: 32px;\n",
              "  }\n",
              "\n",
              "  .colab-df-quickchart:hover {\n",
              "    background-color: var(--hover-bg-color);\n",
              "    box-shadow: 0 1px 2px rgba(60, 64, 67, 0.3), 0 1px 3px 1px rgba(60, 64, 67, 0.15);\n",
              "    fill: var(--button-hover-fill-color);\n",
              "  }\n",
              "\n",
              "  .colab-df-quickchart-complete:disabled,\n",
              "  .colab-df-quickchart-complete:disabled:hover {\n",
              "    background-color: var(--disabled-bg-color);\n",
              "    fill: var(--disabled-fill-color);\n",
              "    box-shadow: none;\n",
              "  }\n",
              "\n",
              "  .colab-df-spinner {\n",
              "    border: 2px solid var(--fill-color);\n",
              "    border-color: transparent;\n",
              "    border-bottom-color: var(--fill-color);\n",
              "    animation:\n",
              "      spin 1s steps(1) infinite;\n",
              "  }\n",
              "\n",
              "  @keyframes spin {\n",
              "    0% {\n",
              "      border-color: transparent;\n",
              "      border-bottom-color: var(--fill-color);\n",
              "      border-left-color: var(--fill-color);\n",
              "    }\n",
              "    20% {\n",
              "      border-color: transparent;\n",
              "      border-left-color: var(--fill-color);\n",
              "      border-top-color: var(--fill-color);\n",
              "    }\n",
              "    30% {\n",
              "      border-color: transparent;\n",
              "      border-left-color: var(--fill-color);\n",
              "      border-top-color: var(--fill-color);\n",
              "      border-right-color: var(--fill-color);\n",
              "    }\n",
              "    40% {\n",
              "      border-color: transparent;\n",
              "      border-right-color: var(--fill-color);\n",
              "      border-top-color: var(--fill-color);\n",
              "    }\n",
              "    60% {\n",
              "      border-color: transparent;\n",
              "      border-right-color: var(--fill-color);\n",
              "    }\n",
              "    80% {\n",
              "      border-color: transparent;\n",
              "      border-right-color: var(--fill-color);\n",
              "      border-bottom-color: var(--fill-color);\n",
              "    }\n",
              "    90% {\n",
              "      border-color: transparent;\n",
              "      border-bottom-color: var(--fill-color);\n",
              "    }\n",
              "  }\n",
              "</style>\n",
              "\n",
              "  <script>\n",
              "    async function quickchart(key) {\n",
              "      const quickchartButtonEl =\n",
              "        document.querySelector('#' + key + ' button');\n",
              "      quickchartButtonEl.disabled = true;  // To prevent multiple clicks.\n",
              "      quickchartButtonEl.classList.add('colab-df-spinner');\n",
              "      try {\n",
              "        const charts = await google.colab.kernel.invokeFunction(\n",
              "            'suggestCharts', [key], {});\n",
              "      } catch (error) {\n",
              "        console.error('Error during call to suggestCharts:', error);\n",
              "      }\n",
              "      quickchartButtonEl.classList.remove('colab-df-spinner');\n",
              "      quickchartButtonEl.classList.add('colab-df-quickchart-complete');\n",
              "    }\n",
              "    (() => {\n",
              "      let quickchartButtonEl =\n",
              "        document.querySelector('#df-57162a6b-a298-42ec-bd8c-b0a27c8544db button');\n",
              "      quickchartButtonEl.style.display =\n",
              "        google.colab.kernel.accessAllowed ? 'block' : 'none';\n",
              "    })();\n",
              "  </script>\n",
              "</div>\n",
              "    </div>\n",
              "  </div>\n"
            ]
          },
          "metadata": {},
          "execution_count": 88
        }
      ]
    },
    {
      "cell_type": "code",
      "source": [
        "df_ohe = pd.get_dummies(df, columns = ['manufacturer', 'condition', 'cylinders', 'fuel', 'title_status', 'transmission',\n",
        "                                       'drive', 'type', 'paint_color'])\n",
        "df_ohe.head(5)"
      ],
      "metadata": {
        "colab": {
          "base_uri": "https://localhost:8080/",
          "height": 255
        },
        "id": "7Z9bzPVQQHub",
        "outputId": "8ff342b1-07d6-4ce9-e36c-37c6e888ea28"
      },
      "execution_count": 83,
      "outputs": [
        {
          "output_type": "execute_result",
          "data": {
            "text/plain": [
              "    price  model  odometer   age  manufacturer_0  manufacturer_1  \\\n",
              "27  33590  16876   57923.0   9.0               0               0   \n",
              "28  22590  17238   71229.0  13.0               0               0   \n",
              "29  39590  17263   19160.0   3.0               0               0   \n",
              "30  30990  19918   41124.0   6.0               0               0   \n",
              "31  15000   8603  128000.0  10.0               0               0   \n",
              "\n",
              "    manufacturer_2  manufacturer_3  manufacturer_4  manufacturer_5  ...  \\\n",
              "27               0               0               0               0  ...   \n",
              "28               0               0               0               0  ...   \n",
              "29               0               0               0               0  ...   \n",
              "30               0               0               0               0  ...   \n",
              "31               0               0               0               0  ...   \n",
              "\n",
              "    paint_color_3  paint_color_4  paint_color_5  paint_color_6  paint_color_7  \\\n",
              "27              0              0              0              0              0   \n",
              "28              0              0              0              0              0   \n",
              "29              0              0              0              0              0   \n",
              "30              0              0              0              0              0   \n",
              "31              0              0              0              0              0   \n",
              "\n",
              "    paint_color_8  paint_color_9  paint_color_10  paint_color_11  \\\n",
              "27              0              0               0               1   \n",
              "28              0              0               0               0   \n",
              "29              0              1               0               0   \n",
              "30              0              1               0               0   \n",
              "31              0              0               0               0   \n",
              "\n",
              "    paint_color_12  \n",
              "27               0  \n",
              "28               0  \n",
              "29               0  \n",
              "30               0  \n",
              "31               0  \n",
              "\n",
              "[5 rows x 104 columns]"
            ],
            "text/html": [
              "\n",
              "  <div id=\"df-2422f1e5-9642-4266-9224-ab75ac95b667\" class=\"colab-df-container\">\n",
              "    <div>\n",
              "<style scoped>\n",
              "    .dataframe tbody tr th:only-of-type {\n",
              "        vertical-align: middle;\n",
              "    }\n",
              "\n",
              "    .dataframe tbody tr th {\n",
              "        vertical-align: top;\n",
              "    }\n",
              "\n",
              "    .dataframe thead th {\n",
              "        text-align: right;\n",
              "    }\n",
              "</style>\n",
              "<table border=\"1\" class=\"dataframe\">\n",
              "  <thead>\n",
              "    <tr style=\"text-align: right;\">\n",
              "      <th></th>\n",
              "      <th>price</th>\n",
              "      <th>model</th>\n",
              "      <th>odometer</th>\n",
              "      <th>age</th>\n",
              "      <th>manufacturer_0</th>\n",
              "      <th>manufacturer_1</th>\n",
              "      <th>manufacturer_2</th>\n",
              "      <th>manufacturer_3</th>\n",
              "      <th>manufacturer_4</th>\n",
              "      <th>manufacturer_5</th>\n",
              "      <th>...</th>\n",
              "      <th>paint_color_3</th>\n",
              "      <th>paint_color_4</th>\n",
              "      <th>paint_color_5</th>\n",
              "      <th>paint_color_6</th>\n",
              "      <th>paint_color_7</th>\n",
              "      <th>paint_color_8</th>\n",
              "      <th>paint_color_9</th>\n",
              "      <th>paint_color_10</th>\n",
              "      <th>paint_color_11</th>\n",
              "      <th>paint_color_12</th>\n",
              "    </tr>\n",
              "  </thead>\n",
              "  <tbody>\n",
              "    <tr>\n",
              "      <th>27</th>\n",
              "      <td>33590</td>\n",
              "      <td>16876</td>\n",
              "      <td>57923.0</td>\n",
              "      <td>9.0</td>\n",
              "      <td>0</td>\n",
              "      <td>0</td>\n",
              "      <td>0</td>\n",
              "      <td>0</td>\n",
              "      <td>0</td>\n",
              "      <td>0</td>\n",
              "      <td>...</td>\n",
              "      <td>0</td>\n",
              "      <td>0</td>\n",
              "      <td>0</td>\n",
              "      <td>0</td>\n",
              "      <td>0</td>\n",
              "      <td>0</td>\n",
              "      <td>0</td>\n",
              "      <td>0</td>\n",
              "      <td>1</td>\n",
              "      <td>0</td>\n",
              "    </tr>\n",
              "    <tr>\n",
              "      <th>28</th>\n",
              "      <td>22590</td>\n",
              "      <td>17238</td>\n",
              "      <td>71229.0</td>\n",
              "      <td>13.0</td>\n",
              "      <td>0</td>\n",
              "      <td>0</td>\n",
              "      <td>0</td>\n",
              "      <td>0</td>\n",
              "      <td>0</td>\n",
              "      <td>0</td>\n",
              "      <td>...</td>\n",
              "      <td>0</td>\n",
              "      <td>0</td>\n",
              "      <td>0</td>\n",
              "      <td>0</td>\n",
              "      <td>0</td>\n",
              "      <td>0</td>\n",
              "      <td>0</td>\n",
              "      <td>0</td>\n",
              "      <td>0</td>\n",
              "      <td>0</td>\n",
              "    </tr>\n",
              "    <tr>\n",
              "      <th>29</th>\n",
              "      <td>39590</td>\n",
              "      <td>17263</td>\n",
              "      <td>19160.0</td>\n",
              "      <td>3.0</td>\n",
              "      <td>0</td>\n",
              "      <td>0</td>\n",
              "      <td>0</td>\n",
              "      <td>0</td>\n",
              "      <td>0</td>\n",
              "      <td>0</td>\n",
              "      <td>...</td>\n",
              "      <td>0</td>\n",
              "      <td>0</td>\n",
              "      <td>0</td>\n",
              "      <td>0</td>\n",
              "      <td>0</td>\n",
              "      <td>0</td>\n",
              "      <td>1</td>\n",
              "      <td>0</td>\n",
              "      <td>0</td>\n",
              "      <td>0</td>\n",
              "    </tr>\n",
              "    <tr>\n",
              "      <th>30</th>\n",
              "      <td>30990</td>\n",
              "      <td>19918</td>\n",
              "      <td>41124.0</td>\n",
              "      <td>6.0</td>\n",
              "      <td>0</td>\n",
              "      <td>0</td>\n",
              "      <td>0</td>\n",
              "      <td>0</td>\n",
              "      <td>0</td>\n",
              "      <td>0</td>\n",
              "      <td>...</td>\n",
              "      <td>0</td>\n",
              "      <td>0</td>\n",
              "      <td>0</td>\n",
              "      <td>0</td>\n",
              "      <td>0</td>\n",
              "      <td>0</td>\n",
              "      <td>1</td>\n",
              "      <td>0</td>\n",
              "      <td>0</td>\n",
              "      <td>0</td>\n",
              "    </tr>\n",
              "    <tr>\n",
              "      <th>31</th>\n",
              "      <td>15000</td>\n",
              "      <td>8603</td>\n",
              "      <td>128000.0</td>\n",
              "      <td>10.0</td>\n",
              "      <td>0</td>\n",
              "      <td>0</td>\n",
              "      <td>0</td>\n",
              "      <td>0</td>\n",
              "      <td>0</td>\n",
              "      <td>0</td>\n",
              "      <td>...</td>\n",
              "      <td>0</td>\n",
              "      <td>0</td>\n",
              "      <td>0</td>\n",
              "      <td>0</td>\n",
              "      <td>0</td>\n",
              "      <td>0</td>\n",
              "      <td>0</td>\n",
              "      <td>0</td>\n",
              "      <td>0</td>\n",
              "      <td>0</td>\n",
              "    </tr>\n",
              "  </tbody>\n",
              "</table>\n",
              "<p>5 rows × 104 columns</p>\n",
              "</div>\n",
              "    <div class=\"colab-df-buttons\">\n",
              "\n",
              "  <div class=\"colab-df-container\">\n",
              "    <button class=\"colab-df-convert\" onclick=\"convertToInteractive('df-2422f1e5-9642-4266-9224-ab75ac95b667')\"\n",
              "            title=\"Convert this dataframe to an interactive table.\"\n",
              "            style=\"display:none;\">\n",
              "\n",
              "  <svg xmlns=\"http://www.w3.org/2000/svg\" height=\"24px\" viewBox=\"0 -960 960 960\">\n",
              "    <path d=\"M120-120v-720h720v720H120Zm60-500h600v-160H180v160Zm220 220h160v-160H400v160Zm0 220h160v-160H400v160ZM180-400h160v-160H180v160Zm440 0h160v-160H620v160ZM180-180h160v-160H180v160Zm440 0h160v-160H620v160Z\"/>\n",
              "  </svg>\n",
              "    </button>\n",
              "\n",
              "  <style>\n",
              "    .colab-df-container {\n",
              "      display:flex;\n",
              "      gap: 12px;\n",
              "    }\n",
              "\n",
              "    .colab-df-convert {\n",
              "      background-color: #E8F0FE;\n",
              "      border: none;\n",
              "      border-radius: 50%;\n",
              "      cursor: pointer;\n",
              "      display: none;\n",
              "      fill: #1967D2;\n",
              "      height: 32px;\n",
              "      padding: 0 0 0 0;\n",
              "      width: 32px;\n",
              "    }\n",
              "\n",
              "    .colab-df-convert:hover {\n",
              "      background-color: #E2EBFA;\n",
              "      box-shadow: 0px 1px 2px rgba(60, 64, 67, 0.3), 0px 1px 3px 1px rgba(60, 64, 67, 0.15);\n",
              "      fill: #174EA6;\n",
              "    }\n",
              "\n",
              "    .colab-df-buttons div {\n",
              "      margin-bottom: 4px;\n",
              "    }\n",
              "\n",
              "    [theme=dark] .colab-df-convert {\n",
              "      background-color: #3B4455;\n",
              "      fill: #D2E3FC;\n",
              "    }\n",
              "\n",
              "    [theme=dark] .colab-df-convert:hover {\n",
              "      background-color: #434B5C;\n",
              "      box-shadow: 0px 1px 3px 1px rgba(0, 0, 0, 0.15);\n",
              "      filter: drop-shadow(0px 1px 2px rgba(0, 0, 0, 0.3));\n",
              "      fill: #FFFFFF;\n",
              "    }\n",
              "  </style>\n",
              "\n",
              "    <script>\n",
              "      const buttonEl =\n",
              "        document.querySelector('#df-2422f1e5-9642-4266-9224-ab75ac95b667 button.colab-df-convert');\n",
              "      buttonEl.style.display =\n",
              "        google.colab.kernel.accessAllowed ? 'block' : 'none';\n",
              "\n",
              "      async function convertToInteractive(key) {\n",
              "        const element = document.querySelector('#df-2422f1e5-9642-4266-9224-ab75ac95b667');\n",
              "        const dataTable =\n",
              "          await google.colab.kernel.invokeFunction('convertToInteractive',\n",
              "                                                    [key], {});\n",
              "        if (!dataTable) return;\n",
              "\n",
              "        const docLinkHtml = 'Like what you see? Visit the ' +\n",
              "          '<a target=\"_blank\" href=https://colab.research.google.com/notebooks/data_table.ipynb>data table notebook</a>'\n",
              "          + ' to learn more about interactive tables.';\n",
              "        element.innerHTML = '';\n",
              "        dataTable['output_type'] = 'display_data';\n",
              "        await google.colab.output.renderOutput(dataTable, element);\n",
              "        const docLink = document.createElement('div');\n",
              "        docLink.innerHTML = docLinkHtml;\n",
              "        element.appendChild(docLink);\n",
              "      }\n",
              "    </script>\n",
              "  </div>\n",
              "\n",
              "\n",
              "<div id=\"df-b7c14302-bf6e-4278-bebe-886ae3893df8\">\n",
              "  <button class=\"colab-df-quickchart\" onclick=\"quickchart('df-b7c14302-bf6e-4278-bebe-886ae3893df8')\"\n",
              "            title=\"Suggest charts.\"\n",
              "            style=\"display:none;\">\n",
              "\n",
              "<svg xmlns=\"http://www.w3.org/2000/svg\" height=\"24px\"viewBox=\"0 0 24 24\"\n",
              "     width=\"24px\">\n",
              "    <g>\n",
              "        <path d=\"M19 3H5c-1.1 0-2 .9-2 2v14c0 1.1.9 2 2 2h14c1.1 0 2-.9 2-2V5c0-1.1-.9-2-2-2zM9 17H7v-7h2v7zm4 0h-2V7h2v10zm4 0h-2v-4h2v4z\"/>\n",
              "    </g>\n",
              "</svg>\n",
              "  </button>\n",
              "\n",
              "<style>\n",
              "  .colab-df-quickchart {\n",
              "      --bg-color: #E8F0FE;\n",
              "      --fill-color: #1967D2;\n",
              "      --hover-bg-color: #E2EBFA;\n",
              "      --hover-fill-color: #174EA6;\n",
              "      --disabled-fill-color: #AAA;\n",
              "      --disabled-bg-color: #DDD;\n",
              "  }\n",
              "\n",
              "  [theme=dark] .colab-df-quickchart {\n",
              "      --bg-color: #3B4455;\n",
              "      --fill-color: #D2E3FC;\n",
              "      --hover-bg-color: #434B5C;\n",
              "      --hover-fill-color: #FFFFFF;\n",
              "      --disabled-bg-color: #3B4455;\n",
              "      --disabled-fill-color: #666;\n",
              "  }\n",
              "\n",
              "  .colab-df-quickchart {\n",
              "    background-color: var(--bg-color);\n",
              "    border: none;\n",
              "    border-radius: 50%;\n",
              "    cursor: pointer;\n",
              "    display: none;\n",
              "    fill: var(--fill-color);\n",
              "    height: 32px;\n",
              "    padding: 0;\n",
              "    width: 32px;\n",
              "  }\n",
              "\n",
              "  .colab-df-quickchart:hover {\n",
              "    background-color: var(--hover-bg-color);\n",
              "    box-shadow: 0 1px 2px rgba(60, 64, 67, 0.3), 0 1px 3px 1px rgba(60, 64, 67, 0.15);\n",
              "    fill: var(--button-hover-fill-color);\n",
              "  }\n",
              "\n",
              "  .colab-df-quickchart-complete:disabled,\n",
              "  .colab-df-quickchart-complete:disabled:hover {\n",
              "    background-color: var(--disabled-bg-color);\n",
              "    fill: var(--disabled-fill-color);\n",
              "    box-shadow: none;\n",
              "  }\n",
              "\n",
              "  .colab-df-spinner {\n",
              "    border: 2px solid var(--fill-color);\n",
              "    border-color: transparent;\n",
              "    border-bottom-color: var(--fill-color);\n",
              "    animation:\n",
              "      spin 1s steps(1) infinite;\n",
              "  }\n",
              "\n",
              "  @keyframes spin {\n",
              "    0% {\n",
              "      border-color: transparent;\n",
              "      border-bottom-color: var(--fill-color);\n",
              "      border-left-color: var(--fill-color);\n",
              "    }\n",
              "    20% {\n",
              "      border-color: transparent;\n",
              "      border-left-color: var(--fill-color);\n",
              "      border-top-color: var(--fill-color);\n",
              "    }\n",
              "    30% {\n",
              "      border-color: transparent;\n",
              "      border-left-color: var(--fill-color);\n",
              "      border-top-color: var(--fill-color);\n",
              "      border-right-color: var(--fill-color);\n",
              "    }\n",
              "    40% {\n",
              "      border-color: transparent;\n",
              "      border-right-color: var(--fill-color);\n",
              "      border-top-color: var(--fill-color);\n",
              "    }\n",
              "    60% {\n",
              "      border-color: transparent;\n",
              "      border-right-color: var(--fill-color);\n",
              "    }\n",
              "    80% {\n",
              "      border-color: transparent;\n",
              "      border-right-color: var(--fill-color);\n",
              "      border-bottom-color: var(--fill-color);\n",
              "    }\n",
              "    90% {\n",
              "      border-color: transparent;\n",
              "      border-bottom-color: var(--fill-color);\n",
              "    }\n",
              "  }\n",
              "</style>\n",
              "\n",
              "  <script>\n",
              "    async function quickchart(key) {\n",
              "      const quickchartButtonEl =\n",
              "        document.querySelector('#' + key + ' button');\n",
              "      quickchartButtonEl.disabled = true;  // To prevent multiple clicks.\n",
              "      quickchartButtonEl.classList.add('colab-df-spinner');\n",
              "      try {\n",
              "        const charts = await google.colab.kernel.invokeFunction(\n",
              "            'suggestCharts', [key], {});\n",
              "      } catch (error) {\n",
              "        console.error('Error during call to suggestCharts:', error);\n",
              "      }\n",
              "      quickchartButtonEl.classList.remove('colab-df-spinner');\n",
              "      quickchartButtonEl.classList.add('colab-df-quickchart-complete');\n",
              "    }\n",
              "    (() => {\n",
              "      let quickchartButtonEl =\n",
              "        document.querySelector('#df-b7c14302-bf6e-4278-bebe-886ae3893df8 button');\n",
              "      quickchartButtonEl.style.display =\n",
              "        google.colab.kernel.accessAllowed ? 'block' : 'none';\n",
              "    })();\n",
              "  </script>\n",
              "</div>\n",
              "    </div>\n",
              "  </div>\n"
            ]
          },
          "metadata": {},
          "execution_count": 83
        }
      ]
    },
    {
      "cell_type": "code",
      "source": [
        "df_ohe.shape"
      ],
      "metadata": {
        "colab": {
          "base_uri": "https://localhost:8080/"
        },
        "id": "TWG0nWsbQb2X",
        "outputId": "fe868bac-a2d0-402e-e7e8-a54e0d700fc6"
      },
      "execution_count": 84,
      "outputs": [
        {
          "output_type": "execute_result",
          "data": {
            "text/plain": [
              "(385786, 104)"
            ]
          },
          "metadata": {},
          "execution_count": 84
        }
      ]
    },
    {
      "cell_type": "markdown",
      "metadata": {
        "id": "2QlhEQieWNDc"
      },
      "source": [
        "### Modeling\n",
        "\n",
        "With your (almost?) final dataset in hand, it is now time to build some models.  Here, you should build a number of different regression models with the price as the target.  In building your models, you should explore different parameters and be sure to cross-validate your findings."
      ]
    },
    {
      "cell_type": "code",
      "source": [
        "X = df.drop('price', axis=1)\n",
        "y = df['price']"
      ],
      "metadata": {
        "id": "Ur0UBRZ3Q8bn"
      },
      "execution_count": 90,
      "outputs": []
    },
    {
      "cell_type": "code",
      "source": [
        "X_train, X_test, y_train, y_test = train_test_split(X, y, test_size = 0.3, random_state = 42)"
      ],
      "metadata": {
        "id": "i6QRtlbzvzhG"
      },
      "execution_count": 93,
      "outputs": []
    },
    {
      "cell_type": "code",
      "source": [
        "# Linear regression\n",
        "model1 = LinearRegression()\n",
        "model1.fit(X_train, y_train)\n",
        "train_preds = model1.predict(X_train)\n",
        "test_preds = model1.predict(X_test)\n",
        "train_mse = mean_squared_error(train_preds, y_train)\n",
        "test_mse = mean_squared_error(test_preds, y_test)\n",
        "print(\"Train MSE: \", train_mse )\n",
        "print(\"Test MSE: \", test_mse)"
      ],
      "metadata": {
        "id": "mqlTWOHeCIwj",
        "colab": {
          "base_uri": "https://localhost:8080/"
        },
        "outputId": "49a42c0f-128e-48af-d020-59ade8a4a2ab"
      },
      "execution_count": 100,
      "outputs": [
        {
          "output_type": "stream",
          "name": "stdout",
          "text": [
            "Train MSE:  140553771.27786902\n",
            "Test MSE:  139058038.292477\n"
          ]
        }
      ]
    },
    {
      "cell_type": "code",
      "source": [
        "linear_coefs = pd.DataFrame(model1.coef_, columns= ['coefficients'], index=X_train.columns)\n",
        "linear_coefs.plot(kind='barh', figsize=(6,3))\n",
        "plt.title(\"Linear regression model\")\n",
        "plt.axvline(x=0, color=\".5\")\n",
        "plt.subplots_adjust(left=0.3)"
      ],
      "metadata": {
        "colab": {
          "base_uri": "https://localhost:8080/",
          "height": 314
        },
        "id": "0WeHThIJHOGO",
        "outputId": "cfe107ad-6cd1-464f-fcfd-3acccefadcd0"
      },
      "execution_count": 102,
      "outputs": [
        {
          "output_type": "display_data",
          "data": {
            "text/plain": [
              "<Figure size 600x300 with 1 Axes>"
            ],
            "image/png": "[encoded data removed]"
          },
          "metadata": {}
        }
      ]
    },
    {
      "cell_type": "code",
      "execution_count": 97,
      "metadata": {
        "id": "1KbBQG6pWNDc",
        "colab": {
          "base_uri": "https://localhost:8080/"
        },
        "outputId": "06bca1b9-7134-4ab6-90d3-9b42696703ff"
      },
      "outputs": [
        {
          "output_type": "stream",
          "name": "stdout",
          "text": [
            "Ridge Train MSE:  140553771.27839422\n",
            "Ridge Test MSE:  139058041.37323123\n"
          ]
        }
      ],
      "source": [
        "# Ridge regression\n",
        "ridge_pipe = Pipeline([('scaler', scaler),\n",
        "                        ('ridge', Ridge())])\n",
        "ridge_pipe.fit(X_train, y_train)\n",
        "train_preds_ridge = ridge_pipe.predict(X_train)\n",
        "test_preds_ridge = ridge_pipe.predict(X_test)\n",
        "train_mse_ridge = mean_squared_error(train_preds_ridge, y_train)\n",
        "test_mse_ridge = mean_squared_error(test_preds_ridge, y_test)\n",
        "print(\"Ridge Train MSE: \", train_mse_ridge )\n",
        "print(\"Ridge Test MSE: \", test_mse_ridge)"
      ]
    },
    {
      "cell_type": "code",
      "execution_count": 104,
      "metadata": {
        "id": "m9HsMbaTWNDc",
        "colab": {
          "base_uri": "https://localhost:8080/",
          "height": 314
        },
        "outputId": "c9dea7c5-bf80-4b04-bc4a-14f980c8debb"
      },
      "outputs": [
        {
          "output_type": "display_data",
          "data": {
            "text/plain": [
              "<Figure size 600x300 with 1 Axes>"
            ],
            "image/png": "[encoded data removed]"
          },
          "metadata": {}
        }
      ],
      "source": [
        "ridge_coefs = pd.DataFrame(ridge_pipe[1].coef_, columns= ['coefficients'], index=X_train.columns)\n",
        "ridge_coefs.plot(kind='barh', figsize=(6,3))\n",
        "plt.title(\"Ridge regression model\")\n",
        "plt.axvline(x=0, color=\".5\")\n",
        "plt.subplots_adjust(left=0.3)"
      ]
    },
    {
      "cell_type": "code",
      "execution_count": 109,
      "metadata": {
        "id": "sETILRQlWNDd",
        "colab": {
          "base_uri": "https://localhost:8080/"
        },
        "outputId": "ac0f7d2d-cc0a-43ba-8b99-f42cff033b20"
      },
      "outputs": [
        {
          "output_type": "stream",
          "name": "stdout",
          "text": [
            "Train MSE: 141897683.32445776\n",
            "Test MSE: 140485274.48095316\n"
          ]
        }
      ],
      "source": [
        "# Using Feature selection\n",
        "selector_pipe = Pipeline([('selector', SequentialFeatureSelector(LinearRegression())),\n",
        "                         ('model', LinearRegression())])\n",
        "param_dict = {'selector__n_features_to_select': [2,3,4,5]}\n",
        "selector_grid = GridSearchCV(selector_pipe, param_dict)\n",
        "selector_grid.fit(X_train, y_train)\n",
        "selector_train_mse = mean_squared_error(selector_grid.predict(X_train), y_train)\n",
        "selector_test_mse = mean_squared_error(selector_grid.predict(X_test), y_test)\n",
        "\n",
        "# ANSWER CHECK\n",
        "print(f'Train MSE: {selector_train_mse}')\n",
        "print(f'Test MSE: {selector_test_mse}')"
      ]
    },
    {
      "cell_type": "code",
      "execution_count": 110,
      "metadata": {
        "id": "bPrNwuXmWNDd",
        "colab": {
          "base_uri": "https://localhost:8080/",
          "height": 202
        },
        "outputId": "07d0a34c-5d38-43e0-a494-2e8a10bdad25"
      },
      "outputs": [
        {
          "output_type": "stream",
          "name": "stdout",
          "text": [
            "Pipeline(steps=[('selector',\n",
            "                 SequentialFeatureSelector(estimator=LinearRegression(),\n",
            "                                           n_features_to_select=5)),\n",
            "                ('model', LinearRegression())]) SequentialFeatureSelector(estimator=LinearRegression(), n_features_to_select=5) LinearRegression()\n",
            "Features from best selector: Index(['cylinders', 'fuel', 'odometer', 'transmission', 'age'], dtype='object').\n",
            "Coefficient values: \n",
            "===================\n"
          ]
        },
        {
          "output_type": "execute_result",
          "data": {
            "text/plain": [
              "         cylinders         fuel     odometer  transmission         age\n",
              "model  1458.639224 -2349.304395 -1182.612004   5040.216186 -3889.61155"
            ],
            "text/html": [
              "\n",
              "  <div id=\"df-ec568ee8-9336-4152-9e16-17f941ff5b8d\" class=\"colab-df-container\">\n",
              "    <div>\n",
              "<style scoped>\n",
              "    .dataframe tbody tr th:only-of-type {\n",
              "        vertical-align: middle;\n",
              "    }\n",
              "\n",
              "    .dataframe tbody tr th {\n",
              "        vertical-align: top;\n",
              "    }\n",
              "\n",
              "    .dataframe thead th {\n",
              "        text-align: right;\n",
              "    }\n",
              "</style>\n",
              "<table border=\"1\" class=\"dataframe\">\n",
              "  <thead>\n",
              "    <tr style=\"text-align: right;\">\n",
              "      <th></th>\n",
              "      <th>cylinders</th>\n",
              "      <th>fuel</th>\n",
              "      <th>odometer</th>\n",
              "      <th>transmission</th>\n",
              "      <th>age</th>\n",
              "    </tr>\n",
              "  </thead>\n",
              "  <tbody>\n",
              "    <tr>\n",
              "      <th>model</th>\n",
              "      <td>1458.639224</td>\n",
              "      <td>-2349.304395</td>\n",
              "      <td>-1182.612004</td>\n",
              "      <td>5040.216186</td>\n",
              "      <td>-3889.61155</td>\n",
              "    </tr>\n",
              "  </tbody>\n",
              "</table>\n",
              "</div>\n",
              "    <div class=\"colab-df-buttons\">\n",
              "\n",
              "  <div class=\"colab-df-container\">\n",
              "    <button class=\"colab-df-convert\" onclick=\"convertToInteractive('df-ec568ee8-9336-4152-9e16-17f941ff5b8d')\"\n",
              "            title=\"Convert this dataframe to an interactive table.\"\n",
              "            style=\"display:none;\">\n",
              "\n",
              "  <svg xmlns=\"http://www.w3.org/2000/svg\" height=\"24px\" viewBox=\"0 -960 960 960\">\n",
              "    <path d=\"M120-120v-720h720v720H120Zm60-500h600v-160H180v160Zm220 220h160v-160H400v160Zm0 220h160v-160H400v160ZM180-400h160v-160H180v160Zm440 0h160v-160H620v160ZM180-180h160v-160H180v160Zm440 0h160v-160H620v160Z\"/>\n",
              "  </svg>\n",
              "    </button>\n",
              "\n",
              "  <style>\n",
              "    .colab-df-container {\n",
              "      display:flex;\n",
              "      gap: 12px;\n",
              "    }\n",
              "\n",
              "    .colab-df-convert {\n",
              "      background-color: #E8F0FE;\n",
              "      border: none;\n",
              "      border-radius: 50%;\n",
              "      cursor: pointer;\n",
              "      display: none;\n",
              "      fill: #1967D2;\n",
              "      height: 32px;\n",
              "      padding: 0 0 0 0;\n",
              "      width: 32px;\n",
              "    }\n",
              "\n",
              "    .colab-df-convert:hover {\n",
              "      background-color: #E2EBFA;\n",
              "      box-shadow: 0px 1px 2px rgba(60, 64, 67, 0.3), 0px 1px 3px 1px rgba(60, 64, 67, 0.15);\n",
              "      fill: #174EA6;\n",
              "    }\n",
              "\n",
              "    .colab-df-buttons div {\n",
              "      margin-bottom: 4px;\n",
              "    }\n",
              "\n",
              "    [theme=dark] .colab-df-convert {\n",
              "      background-color: #3B4455;\n",
              "      fill: #D2E3FC;\n",
              "    }\n",
              "\n",
              "    [theme=dark] .colab-df-convert:hover {\n",
              "      background-color: #434B5C;\n",
              "      box-shadow: 0px 1px 3px 1px rgba(0, 0, 0, 0.15);\n",
              "      filter: drop-shadow(0px 1px 2px rgba(0, 0, 0, 0.3));\n",
              "      fill: #FFFFFF;\n",
              "    }\n",
              "  </style>\n",
              "\n",
              "    <script>\n",
              "      const buttonEl =\n",
              "        document.querySelector('#df-ec568ee8-9336-4152-9e16-17f941ff5b8d button.colab-df-convert');\n",
              "      buttonEl.style.display =\n",
              "        google.colab.kernel.accessAllowed ? 'block' : 'none';\n",
              "\n",
              "      async function convertToInteractive(key) {\n",
              "        const element = document.querySelector('#df-ec568ee8-9336-4152-9e16-17f941ff5b8d');\n",
              "        const dataTable =\n",
              "          await google.colab.kernel.invokeFunction('convertToInteractive',\n",
              "                                                    [key], {});\n",
              "        if (!dataTable) return;\n",
              "\n",
              "        const docLinkHtml = 'Like what you see? Visit the ' +\n",
              "          '<a target=\"_blank\" href=https://colab.research.google.com/notebooks/data_table.ipynb>data table notebook</a>'\n",
              "          + ' to learn more about interactive tables.';\n",
              "        element.innerHTML = '';\n",
              "        dataTable['output_type'] = 'display_data';\n",
              "        await google.colab.output.renderOutput(dataTable, element);\n",
              "        const docLink = document.createElement('div');\n",
              "        docLink.innerHTML = docLinkHtml;\n",
              "        element.appendChild(docLink);\n",
              "      }\n",
              "    </script>\n",
              "  </div>\n",
              "\n",
              "    </div>\n",
              "  </div>\n"
            ]
          },
          "metadata": {},
          "execution_count": 110
        }
      ],
      "source": [
        "best_estimator = selector_grid.best_estimator_\n",
        "best_selector = best_estimator.named_steps['selector']\n",
        "best_model = selector_grid.best_estimator_.named_steps['model']\n",
        "feature_names = X_train.columns[best_selector.get_support()]\n",
        "coefs = best_model.coef_\n",
        "\n",
        "# Answer check\n",
        "print(best_estimator, best_selector, best_model)\n",
        "print(f'Features from best selector: {feature_names}.')\n",
        "print('Coefficient values: ')\n",
        "print('===================')\n",
        "pd.DataFrame([coefs.T], columns = feature_names, index = ['model'])"
      ]
    },
    {
      "cell_type": "markdown",
      "metadata": {
        "id": "s8_pZIs-WNDd"
      },
      "source": [
        "### Evaluation\n",
        "\n",
        "All the 3 models have similar test mse metrics. A simple linear regression model using all the features is a good choice of model to use to predict the price of used car."
      ]
    },
    {
      "cell_type": "markdown",
      "source": [
        "### Deployment\n",
        "\n",
        "The linear regression model can be deployed to production to predict the price of cars. Based on the analysis, following are the key features that influence the price of the car.\n",
        "\n",
        "1. Age\n",
        "2. Odometer\n",
        "3. Fuel\n",
        "4. Cylinder\n",
        "5. Transmission\n",
        "\n",
        "\n",
        "### Next Steps\n",
        "1. Due to time constraint, I did not get a chance to explore other models like Polynomical regression, Random forest regression etc. Some of these alternalte models could be built and evaluated.\n",
        "2. For missing values, I used imputation with a known label or removing the missing rows completely. Alternate methods for filling in missing values can be explored.\n",
        "3. Techniques like cross validation, hyper parameter optimization can be explored to improve model performance\n",
        "\n"
      ],
      "metadata": {
        "id": "29PbK-a0RB3x"
      }
    }
  ],
  "metadata": {
    "kernelspec": {
      "display_name": "Python 3",
      "language": "python",
      "name": "python3"
    },
    "language_info": {
      "codemirror_mode": {
        "name": "ipython",
        "version": 3
      },
      "file_extension": ".py",
      "mimetype": "text/x-python",
      "name": "python",
      "nbconvert_exporter": "python",
      "pygments_lexer": "ipython3",
      "version": "3.8.8"
    },
    "colab": {
      "provenance": [],
      "include_colab_link": true
    }
  },
  "nbformat": 4,
  "nbformat_minor": 0
}