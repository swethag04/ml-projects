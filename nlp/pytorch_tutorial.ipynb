{
  "nbformat": 4,
  "nbformat_minor": 0,
  "metadata": {
    "colab": {
      "provenance": [],
      "authorship_tag": "ABX9TyNgE/wjCiTCf2m4+boMbdCJ",
      "include_colab_link": true
    },
    "kernelspec": {
      "name": "python3",
      "display_name": "Python 3"
    },
    "language_info": {
      "name": "python"
    }
  },
  "cells": [
    {
      "cell_type": "markdown",
      "metadata": {
        "id": "view-in-github",
        "colab_type": "text"
      },
      "source": [
        "<a href=\"https://colab.research.google.com/github/swethag04/ml-projects/blob/main/nlp/pytorch_tutorial.ipynb\" target=\"_parent\"><img src=\"https://colab.research.google.com/assets/colab-badge.svg\" alt=\"Open In Colab\"/></a>"
      ]
    },
    {
      "cell_type": "code",
      "source": [
        "import torch"
      ],
      "metadata": {
        "id": "RzfUib4kRacC"
      },
      "execution_count": 53,
      "outputs": []
    },
    {
      "cell_type": "code",
      "source": [
        "torch.__version__"
      ],
      "metadata": {
        "colab": {
          "base_uri": "https://localhost:8080/",
          "height": 35
        },
        "id": "kxAd30huRb5W",
        "outputId": "b4e917ac-71d8-4295-f9eb-88b40790593a"
      },
      "execution_count": 54,
      "outputs": [
        {
          "output_type": "execute_result",
          "data": {
            "text/plain": [
              "'2.1.0+cu121'"
            ],
            "application/vnd.google.colaboratory.intrinsic+json": {
              "type": "string"
            }
          },
          "metadata": {},
          "execution_count": 54
        }
      ]
    },
    {
      "cell_type": "code",
      "source": [
        "# check if NVIDIA gpu is available\n",
        "torch.cuda.is_available()"
      ],
      "metadata": {
        "colab": {
          "base_uri": "https://localhost:8080/"
        },
        "id": "-vbaA1SNRdxd",
        "outputId": "b9f4e3ef-afee-40dd-918c-32c1f0b3d1ae"
      },
      "execution_count": 55,
      "outputs": [
        {
          "output_type": "execute_result",
          "data": {
            "text/plain": [
              "False"
            ]
          },
          "metadata": {},
          "execution_count": 55
        }
      ]
    },
    {
      "cell_type": "code",
      "source": [
        "# check if the mac has apple silicon chip to accelerate pytorch code execution\n",
        "print(torch.backends.mps.is_available())"
      ],
      "metadata": {
        "colab": {
          "base_uri": "https://localhost:8080/"
        },
        "id": "-tKk2RBDRmsy",
        "outputId": "8f9198d3-6f80-41f6-c1a7-288a0e9a97cf"
      },
      "execution_count": 56,
      "outputs": [
        {
          "output_type": "stream",
          "name": "stdout",
          "text": [
            "False\n"
          ]
        }
      ]
    },
    {
      "cell_type": "markdown",
      "source": [
        "PyTorch tensors are data containers for array like structures.\n",
        "\n",
        "*   A scalar is a 0 dimensional tensor\n",
        "*   A vector is a 1-dimensional tensor\n",
        "* A matrix is a 2-dimensional vector\n",
        "\n"
      ],
      "metadata": {
        "id": "2McSkGQjSDcu"
      }
    },
    {
      "cell_type": "code",
      "source": [
        "# creating pytorch tensors\n",
        "\n",
        "tensor0d = torch.tensor(1)\n",
        "tensor1d = torch.tensor([1,2,3])\n",
        "tensor2d = torch.tensor([[1,2,3], [4,5,6]])\n",
        "tensor3d = torch.tensor([[[1,2], [3,4], [5,6], [7,8]]])"
      ],
      "metadata": {
        "id": "mWEhXq2HR1nY"
      },
      "execution_count": 57,
      "outputs": []
    },
    {
      "cell_type": "code",
      "source": [
        "print(tensor1d)"
      ],
      "metadata": {
        "colab": {
          "base_uri": "https://localhost:8080/"
        },
        "id": "VwtOq_JVSo_P",
        "outputId": "87f73f5b-bc7f-4c24-bf1f-8f57411a2800"
      },
      "execution_count": 58,
      "outputs": [
        {
          "output_type": "stream",
          "name": "stdout",
          "text": [
            "tensor([1, 2, 3])\n"
          ]
        }
      ]
    },
    {
      "cell_type": "code",
      "source": [
        "print(tensor1d.dtype)"
      ],
      "metadata": {
        "colab": {
          "base_uri": "https://localhost:8080/"
        },
        "id": "2v6qraySSzee",
        "outputId": "794416cc-04f9-4e07-d3c9-f8ba1f7de7dc"
      },
      "execution_count": 59,
      "outputs": [
        {
          "output_type": "stream",
          "name": "stdout",
          "text": [
            "torch.int64\n"
          ]
        }
      ]
    },
    {
      "cell_type": "code",
      "source": [
        "floatvec =  torch.tensor([1.0,2.0,3.0])\n",
        "print(floatvec.dtype)"
      ],
      "metadata": {
        "colab": {
          "base_uri": "https://localhost:8080/"
        },
        "id": "46vbCvjiS2Uo",
        "outputId": "a96ddc00-a309-429e-c1a8-0c938fa27422"
      },
      "execution_count": 60,
      "outputs": [
        {
          "output_type": "stream",
          "name": "stdout",
          "text": [
            "torch.float32\n"
          ]
        }
      ]
    },
    {
      "cell_type": "code",
      "source": [
        "# changing 64 bit int tensor to 32 bit float tensor\n",
        "floatvec = tensor1d.to(torch.float32)\n",
        "print(floatvec.dtype)"
      ],
      "metadata": {
        "colab": {
          "base_uri": "https://localhost:8080/"
        },
        "id": "4fBGTiRfS91h",
        "outputId": "1857053d-22ed-4686-ef86-a3891a70a64e"
      },
      "execution_count": 61,
      "outputs": [
        {
          "output_type": "stream",
          "name": "stdout",
          "text": [
            "torch.float32\n"
          ]
        }
      ]
    },
    {
      "cell_type": "code",
      "source": [
        "print(tensor1d.shape)"
      ],
      "metadata": {
        "colab": {
          "base_uri": "https://localhost:8080/"
        },
        "id": "cSM9niX_TQPK",
        "outputId": "4856ffb6-84ac-43d4-d877-661644ae71d0"
      },
      "execution_count": 62,
      "outputs": [
        {
          "output_type": "stream",
          "name": "stdout",
          "text": [
            "torch.Size([3])\n"
          ]
        }
      ]
    },
    {
      "cell_type": "code",
      "source": [
        "print(tensor2d.shape)"
      ],
      "metadata": {
        "colab": {
          "base_uri": "https://localhost:8080/"
        },
        "id": "0SHS9p_CUxAo",
        "outputId": "b9f745e2-e6c9-4ac9-b6eb-49048732bbbe"
      },
      "execution_count": 63,
      "outputs": [
        {
          "output_type": "stream",
          "name": "stdout",
          "text": [
            "torch.Size([2, 3])\n"
          ]
        }
      ]
    },
    {
      "cell_type": "code",
      "source": [
        "# reshape tensor\n",
        "print(tensor2d.reshape(3,2))"
      ],
      "metadata": {
        "colab": {
          "base_uri": "https://localhost:8080/"
        },
        "id": "W_LcdCy-Uyuv",
        "outputId": "a8080bab-e965-4e8f-b391-3b4d455f4eeb"
      },
      "execution_count": 64,
      "outputs": [
        {
          "output_type": "stream",
          "name": "stdout",
          "text": [
            "tensor([[1, 2],\n",
            "        [3, 4],\n",
            "        [5, 6]])\n"
          ]
        }
      ]
    },
    {
      "cell_type": "code",
      "source": [
        "print(tensor2d)"
      ],
      "metadata": {
        "colab": {
          "base_uri": "https://localhost:8080/"
        },
        "id": "xY2LlwzeVCf_",
        "outputId": "756de456-2983-4e90-cb42-262f80c5bdc5"
      },
      "execution_count": 65,
      "outputs": [
        {
          "output_type": "stream",
          "name": "stdout",
          "text": [
            "tensor([[1, 2, 3],\n",
            "        [4, 5, 6]])\n"
          ]
        }
      ]
    },
    {
      "cell_type": "code",
      "source": [
        "# another way to reshape tensor\n",
        "print(tensor2d.view(3,2))"
      ],
      "metadata": {
        "colab": {
          "base_uri": "https://localhost:8080/"
        },
        "id": "mJsMrt3hVMPD",
        "outputId": "d269f54c-9214-4324-ad5b-e384938098a6"
      },
      "execution_count": 66,
      "outputs": [
        {
          "output_type": "stream",
          "name": "stdout",
          "text": [
            "tensor([[1, 2],\n",
            "        [3, 4],\n",
            "        [5, 6]])\n"
          ]
        }
      ]
    },
    {
      "cell_type": "code",
      "source": [
        "# Transposing a tensor\n",
        "print(tensor2d.T)"
      ],
      "metadata": {
        "colab": {
          "base_uri": "https://localhost:8080/"
        },
        "id": "RCDkzqZGVVjv",
        "outputId": "4db39d24-e307-49a2-ce64-8b8e4a23c5b5"
      },
      "execution_count": 67,
      "outputs": [
        {
          "output_type": "stream",
          "name": "stdout",
          "text": [
            "tensor([[1, 4],\n",
            "        [2, 5],\n",
            "        [3, 6]])\n"
          ]
        }
      ]
    },
    {
      "cell_type": "code",
      "source": [
        "# Multiply 2 matrices\n",
        "print(tensor2d.matmul(tensor2d.T))"
      ],
      "metadata": {
        "colab": {
          "base_uri": "https://localhost:8080/"
        },
        "id": "NA9bWyZ0VkPq",
        "outputId": "d8de5e7c-3adf-42aa-cea8-676db0df061b"
      },
      "execution_count": 68,
      "outputs": [
        {
          "output_type": "stream",
          "name": "stdout",
          "text": [
            "tensor([[14, 32],\n",
            "        [32, 77]])\n"
          ]
        }
      ]
    },
    {
      "cell_type": "code",
      "source": [
        "# multiply using @ operator\n",
        "print(tensor2d @ tensor2d.T)"
      ],
      "metadata": {
        "colab": {
          "base_uri": "https://localhost:8080/"
        },
        "id": "JxqRn8SvV-Rj",
        "outputId": "0666c832-b70d-4681-97b3-73cf41f58b52"
      },
      "execution_count": 69,
      "outputs": [
        {
          "output_type": "stream",
          "name": "stdout",
          "text": [
            "tensor([[14, 32],\n",
            "        [32, 77]])\n"
          ]
        }
      ]
    },
    {
      "cell_type": "code",
      "source": [
        "# Logistic regression forward pass\n",
        "import torch.nn.functional as F\n",
        "\n",
        "# true label\n",
        "y = torch.tensor([1.0])\n",
        "\n",
        "# input feature\n",
        "x1 = torch.tensor([1.1])\n",
        "\n",
        "# weight parameter\n",
        "w1 = torch.tensor([2.2])\n",
        "\n",
        "# bias unit\n",
        "b = torch.tensor([0.0])\n",
        "\n",
        "# net input\n",
        "z = x1 * w1 +b\n",
        "\n",
        "#activation and output\n",
        "a = torch.sigmoid(z)\n",
        "\n",
        "loss = F.binary_cross_entropy(a, y)\n",
        "print(a)\n",
        "print(loss)\n"
      ],
      "metadata": {
        "colab": {
          "base_uri": "https://localhost:8080/"
        },
        "id": "dAynJ1_DWFLD",
        "outputId": "0e6829da-6671-4e63-ed0a-6d1f97dadc1a"
      },
      "execution_count": 70,
      "outputs": [
        {
          "output_type": "stream",
          "name": "stdout",
          "text": [
            "tensor([0.9183])\n",
            "tensor(0.0852)\n"
          ]
        }
      ]
    },
    {
      "cell_type": "code",
      "source": [
        "# computing gradients vis autograd\n",
        "from torch.autograd import grad\n",
        "\n",
        "y = torch.tensor([1.0])\n",
        "x1 = torch.tensor([1.1])\n",
        "w1 = torch.tensor([2.2], requires_grad=True)\n",
        "b = torch.tensor([0.0], requires_grad=True)\n",
        "\n",
        "z = x1 * w1 + b\n",
        "a = torch.sigmoid(z)\n",
        "\n",
        "loss = F.binary_cross_entropy(a,y)\n",
        "\n",
        "grad_L_w1 = grad(loss, w1, retain_graph=True)\n",
        "grad_L_b = grad(loss, b, retain_graph=True)\n",
        "\n",
        "print(grad_L_w1)\n",
        "print(grad_L_b)"
      ],
      "metadata": {
        "colab": {
          "base_uri": "https://localhost:8080/"
        },
        "id": "KU6_v5Md-uSt",
        "outputId": "cec54457-1bb4-41c5-d3bc-d7c2305827ee"
      },
      "execution_count": 71,
      "outputs": [
        {
          "output_type": "stream",
          "name": "stdout",
          "text": [
            "(tensor([-0.0898]),)\n",
            "(tensor([-0.0817]),)\n"
          ]
        }
      ]
    },
    {
      "cell_type": "code",
      "source": [
        "# instead of using grad function manually\n",
        "loss.backward()\n",
        "print(w1.grad)\n",
        "print(b.grad)"
      ],
      "metadata": {
        "colab": {
          "base_uri": "https://localhost:8080/"
        },
        "id": "GpyI2zXiO3F6",
        "outputId": "a97318cd-c375-4fad-c678-3001442e9308"
      },
      "execution_count": 72,
      "outputs": [
        {
          "output_type": "stream",
          "name": "stdout",
          "text": [
            "tensor([-0.0898])\n",
            "tensor([-0.0817])\n"
          ]
        }
      ]
    },
    {
      "cell_type": "code",
      "source": [
        "# Multilayer perceptron\n",
        "class NeuralNetwork(torch.nn.Module):\n",
        "  def __init__(self, num_inputs, num_outputs):\n",
        "    super().__init__()\n",
        "\n",
        "    self.layers = torch.nn.Sequential(\n",
        "\n",
        "        # first hidden layer\n",
        "        torch.nn.Linear(num_inputs, 30),\n",
        "        torch.nn.ReLU(),\n",
        "\n",
        "        # 2nd hidden layer\n",
        "        torch.nn.Linear(30,20),\n",
        "        torch.nn.ReLU(),\n",
        "\n",
        "        # output layert\n",
        "        torch.nn.Linear(20, num_outputs)\n",
        "    )\n",
        "\n",
        "  def forward(self,x):\n",
        "      # logits is the output of last layer\n",
        "    logits = self.layers(x)\n",
        "    return logits"
      ],
      "metadata": {
        "id": "TS13qz6ePJqs"
      },
      "execution_count": 73,
      "outputs": []
    },
    {
      "cell_type": "code",
      "source": [
        "model = NeuralNetwork(50,3)\n",
        "print(model)"
      ],
      "metadata": {
        "colab": {
          "base_uri": "https://localhost:8080/"
        },
        "id": "X_26Kcx-_aoy",
        "outputId": "50018de2-0c93-4b90-db9b-263887455d10"
      },
      "execution_count": 74,
      "outputs": [
        {
          "output_type": "stream",
          "name": "stdout",
          "text": [
            "NeuralNetwork(\n",
            "  (layers): Sequential(\n",
            "    (0): Linear(in_features=50, out_features=30, bias=True)\n",
            "    (1): ReLU()\n",
            "    (2): Linear(in_features=30, out_features=20, bias=True)\n",
            "    (3): ReLU()\n",
            "    (4): Linear(in_features=20, out_features=3, bias=True)\n",
            "  )\n",
            ")\n"
          ]
        }
      ]
    },
    {
      "cell_type": "code",
      "source": [
        "num_params = sum(p.numel() for p in model.parameters() if p.requires_grad)\n",
        "print(\"Total number of trainable model params: \", num_params)"
      ],
      "metadata": {
        "colab": {
          "base_uri": "https://localhost:8080/"
        },
        "id": "a6T-ao7J_vHb",
        "outputId": "3f714fb9-71f2-48a7-c535-e4252d693cab"
      },
      "execution_count": 75,
      "outputs": [
        {
          "output_type": "stream",
          "name": "stdout",
          "text": [
            "Total number of trainable model params:  2213\n"
          ]
        }
      ]
    },
    {
      "cell_type": "code",
      "source": [
        "print(model.layers[0].weight)"
      ],
      "metadata": {
        "colab": {
          "base_uri": "https://localhost:8080/"
        },
        "id": "7kZbq3sDBlLR",
        "outputId": "42eb8658-fbe9-4b81-e3d1-eaa7e09af06e"
      },
      "execution_count": 76,
      "outputs": [
        {
          "output_type": "stream",
          "name": "stdout",
          "text": [
            "Parameter containing:\n",
            "tensor([[-0.0281,  0.1284,  0.1009,  ..., -0.0914, -0.1354,  0.1046],\n",
            "        [ 0.1062, -0.0360,  0.0624,  ...,  0.0697, -0.0964,  0.0765],\n",
            "        [-0.0045,  0.0584, -0.0003,  ..., -0.1287, -0.0371, -0.1072],\n",
            "        ...,\n",
            "        [-0.1057,  0.1387, -0.1316,  ...,  0.0019, -0.0163,  0.0589],\n",
            "        [-0.1053, -0.0406, -0.1302,  ...,  0.0139, -0.0647, -0.0738],\n",
            "        [-0.0511,  0.0880,  0.0709,  ...,  0.1037,  0.0555,  0.0037]],\n",
            "       requires_grad=True)\n"
          ]
        }
      ]
    },
    {
      "cell_type": "code",
      "source": [
        "print(model.layers[0].weight.shape)"
      ],
      "metadata": {
        "colab": {
          "base_uri": "https://localhost:8080/"
        },
        "id": "hcVCc8ILDPHO",
        "outputId": "ccab968a-47d8-4bf9-f55e-1c9299d47e0c"
      },
      "execution_count": 77,
      "outputs": [
        {
          "output_type": "stream",
          "name": "stdout",
          "text": [
            "torch.Size([30, 50])\n"
          ]
        }
      ]
    },
    {
      "cell_type": "code",
      "source": [
        "model.layers[0].bias"
      ],
      "metadata": {
        "colab": {
          "base_uri": "https://localhost:8080/"
        },
        "id": "IgZonvyncRnC",
        "outputId": "7ef969c1-17be-4bdc-d23f-7159581e2998"
      },
      "execution_count": 78,
      "outputs": [
        {
          "output_type": "execute_result",
          "data": {
            "text/plain": [
              "Parameter containing:\n",
              "tensor([ 0.0560, -0.0131,  0.1141,  0.0025,  0.0788,  0.1260,  0.0459,  0.0039,\n",
              "        -0.0099, -0.1152, -0.1105,  0.0472,  0.0131,  0.0366, -0.1277,  0.0792,\n",
              "        -0.0146,  0.0551, -0.0780,  0.0295,  0.0728, -0.1057,  0.0126, -0.0490,\n",
              "         0.1161, -0.0296, -0.0827, -0.0906, -0.0129,  0.0642],\n",
              "       requires_grad=True)"
            ]
          },
          "metadata": {},
          "execution_count": 78
        }
      ]
    },
    {
      "cell_type": "code",
      "source": [
        "print(model.layers[0].bias.shape)"
      ],
      "metadata": {
        "colab": {
          "base_uri": "https://localhost:8080/"
        },
        "id": "qk1e5t4EcWoS",
        "outputId": "0843d73c-d2a7-484a-ed65-99e1deaeae21"
      },
      "execution_count": 79,
      "outputs": [
        {
          "output_type": "stream",
          "name": "stdout",
          "text": [
            "torch.Size([30])\n"
          ]
        }
      ]
    },
    {
      "cell_type": "code",
      "source": [
        "torch.manual_seed(123)\n",
        "model = NeuralNetwork(50,3)\n",
        "print(model.layers[0].weight)"
      ],
      "metadata": {
        "colab": {
          "base_uri": "https://localhost:8080/"
        },
        "id": "5OlQIeuZcYfH",
        "outputId": "b9763717-1d39-44ec-c6a1-61dc9eb7c8c3"
      },
      "execution_count": 80,
      "outputs": [
        {
          "output_type": "stream",
          "name": "stdout",
          "text": [
            "Parameter containing:\n",
            "tensor([[-0.0577,  0.0047, -0.0702,  ...,  0.0222,  0.1260,  0.0865],\n",
            "        [ 0.0502,  0.0307,  0.0333,  ...,  0.0951,  0.1134, -0.0297],\n",
            "        [ 0.1077, -0.1108,  0.0122,  ...,  0.0108, -0.1049, -0.1063],\n",
            "        ...,\n",
            "        [-0.0787,  0.1259,  0.0803,  ...,  0.1218,  0.1303, -0.1351],\n",
            "        [ 0.1359,  0.0175, -0.0673,  ...,  0.0674,  0.0676,  0.1058],\n",
            "        [ 0.0790,  0.1343, -0.0293,  ...,  0.0344, -0.0971, -0.0509]],\n",
            "       requires_grad=True)\n"
          ]
        }
      ]
    },
    {
      "cell_type": "code",
      "source": [
        "torch.manual_seed(123)\n",
        "X = torch.rand((1,50))\n",
        "out = model(X)\n",
        "print(out)"
      ],
      "metadata": {
        "colab": {
          "base_uri": "https://localhost:8080/"
        },
        "id": "SeOCQDSecofS",
        "outputId": "e7e63077-9191-45f2-c32d-b508eb3cf686"
      },
      "execution_count": 81,
      "outputs": [
        {
          "output_type": "stream",
          "name": "stdout",
          "text": [
            "tensor([[-0.1262,  0.1080, -0.1792]], grad_fn=<AddmmBackward0>)\n"
          ]
        }
      ]
    },
    {
      "cell_type": "code",
      "source": [
        "with torch.no_grad():\n",
        "  out = model(X)\n",
        "print(out)"
      ],
      "metadata": {
        "colab": {
          "base_uri": "https://localhost:8080/"
        },
        "id": "_TE_gjRyd84y",
        "outputId": "d5d32b63-cdf8-48f0-f0c8-a026dfb1d171"
      },
      "execution_count": 82,
      "outputs": [
        {
          "output_type": "stream",
          "name": "stdout",
          "text": [
            "tensor([[-0.1262,  0.1080, -0.1792]])\n"
          ]
        }
      ]
    },
    {
      "cell_type": "code",
      "source": [
        "with torch.no_grad():\n",
        "  out = torch.softmax(model(X), dim=1)\n",
        "print(out)"
      ],
      "metadata": {
        "colab": {
          "base_uri": "https://localhost:8080/"
        },
        "id": "isJSEfV7bsgN",
        "outputId": "1338a86c-a1e6-414e-b92f-387aaf8c2212"
      },
      "execution_count": 83,
      "outputs": [
        {
          "output_type": "stream",
          "name": "stdout",
          "text": [
            "tensor([[0.3113, 0.3934, 0.2952]])\n"
          ]
        }
      ]
    },
    {
      "cell_type": "code",
      "source": [
        "# creating a small top dataset\n",
        "X_train = torch.tensor([\n",
        "    [-1.2,3.1],\n",
        "    [0.9, 2.9],\n",
        "    [-0.5,2.6],\n",
        "    [2.3, -1.1],\n",
        "    [2.7, -1.5]\n",
        "])\n",
        "y_train = torch.tensor([0,0,0,1,1])\n",
        "X_test = torch.tensor([\n",
        "                      [-0.8,2.8],\n",
        "                      [2.6, -1.6]])\n",
        "y_test = torch.tensor([0,1])"
      ],
      "metadata": {
        "id": "sEkF4CDacOtY"
      },
      "execution_count": 84,
      "outputs": []
    },
    {
      "cell_type": "code",
      "source": [
        "# Defining a custom Dataset class\n",
        "from torch.utils.data import Dataset\n",
        "\n",
        "class ToyDataset(Dataset):\n",
        "  def __init__(self, X, y):\n",
        "    self.features = X\n",
        "    self.labels = y\n",
        "\n",
        "  def __getitem__(self, index):\n",
        "    # retrieve one data record and the corresponding label\n",
        "    one_x = self.features[index]\n",
        "    one_y = self.labels[index]\n",
        "    return one_x, one_y\n",
        "\n",
        "  def __len__(self):\n",
        "    # total length of dataset\n",
        "    return self.labels.shape[0]\n",
        "\n",
        "train_ds = ToyDataset(X_train, y_train)\n",
        "test_ds = ToyDataset(X_test, y_test)"
      ],
      "metadata": {
        "id": "03BRfRzkhgN_"
      },
      "execution_count": 85,
      "outputs": []
    },
    {
      "cell_type": "code",
      "source": [
        "print(len(train_ds))"
      ],
      "metadata": {
        "colab": {
          "base_uri": "https://localhost:8080/"
        },
        "id": "yehhTfLjkli7",
        "outputId": "066a7abf-a1df-4060-9d5e-e952ebafb182"
      },
      "execution_count": 86,
      "outputs": [
        {
          "output_type": "stream",
          "name": "stdout",
          "text": [
            "5\n"
          ]
        }
      ]
    },
    {
      "cell_type": "code",
      "source": [
        "# Instantiating data loader\n",
        "from torch.utils.data import DataLoader\n",
        "torch.manual_seed(123)\n",
        "train_loader = DataLoader(\n",
        "    dataset = train_ds,\n",
        "    batch_size = 2,\n",
        "    shuffle = True,\n",
        "    num_workers = 0\n",
        ")\n",
        "test_loader = DataLoader(\n",
        "    dataset = test_ds,\n",
        "    batch_size =2,\n",
        "    shuffle = False,\n",
        "    num_workers = 0\n",
        ")"
      ],
      "metadata": {
        "id": "rfqA6O9nk_WR"
      },
      "execution_count": 87,
      "outputs": []
    },
    {
      "cell_type": "code",
      "source": [
        "for idx, (x,y) in enumerate(train_loader):\n",
        "  print(f\"Batch {idx+1}: \", x, y)"
      ],
      "metadata": {
        "colab": {
          "base_uri": "https://localhost:8080/"
        },
        "id": "PbIwCn9Mm8wT",
        "outputId": "9b102099-63fd-499b-e9e5-9d5054039ca3"
      },
      "execution_count": 88,
      "outputs": [
        {
          "output_type": "stream",
          "name": "stdout",
          "text": [
            "Batch 1:  tensor([[ 2.3000, -1.1000],\n",
            "        [ 0.9000,  2.9000]]) tensor([1, 0])\n",
            "Batch 2:  tensor([[-1.2000,  3.1000],\n",
            "        [-0.5000,  2.6000]]) tensor([0, 0])\n",
            "Batch 3:  tensor([[ 2.7000, -1.5000]]) tensor([1])\n"
          ]
        }
      ]
    },
    {
      "cell_type": "code",
      "source": [
        "# A training loader that drops the alst batch\n",
        "train_loader = DataLoader(\n",
        "    dataset = train_ds,\n",
        "    batch_size = 2,\n",
        "    shuffle = True,\n",
        "    num_workers = 0,\n",
        "    drop_last = True\n",
        ")\n",
        "for idx, (x,y) in enumerate(train_loader):\n",
        "  print(f\"Batch {idx+1}:\", x,y)"
      ],
      "metadata": {
        "colab": {
          "base_uri": "https://localhost:8080/"
        },
        "id": "-n6M8MaGnHbX",
        "outputId": "be8ad5e0-8f1f-4fbf-cc17-723f5e52339c"
      },
      "execution_count": 89,
      "outputs": [
        {
          "output_type": "stream",
          "name": "stdout",
          "text": [
            "Batch 1: tensor([[-1.2000,  3.1000],\n",
            "        [-0.5000,  2.6000]]) tensor([0, 0])\n",
            "Batch 2: tensor([[ 2.3000, -1.1000],\n",
            "        [ 0.9000,  2.9000]]) tensor([1, 0])\n"
          ]
        }
      ]
    },
    {
      "cell_type": "code",
      "source": [
        "#### Neural network training in pytorch\n",
        "\n",
        "import torch.nn.functional as F\n",
        "\n",
        "torch.manual_seed(123)\n",
        "model = NeuralNetwork(num_inputs =2, num_outputs=2)\n",
        "optimizer = torch.optim.SGD(model.parameters(), lr=0.5)\n",
        "\n",
        "num_epochs = 3\n",
        "\n",
        "for epoch in range(num_epochs):\n",
        "  model.train()\n",
        "  for batch_idx, (features, labels) in enumerate(train_loader):\n",
        "    logits = model(features)\n",
        "    loss = F.cross_entropy(logits, labels)\n",
        "\n",
        "    # set the gradients from previous round to zero to prevent unintended gradient accumulation\n",
        "    optimizer.zero_grad()\n",
        "    # compute the gradients of the loss wrt the model parameters\n",
        "    loss.backward()\n",
        "    # optimizer uses the gradient to update the model parameters\n",
        "    optimizer.step()\n",
        "\n",
        "    # logging\n",
        "    print(f\"Epoch: {epoch+1:03d}/{num_epochs:03d}\"\n",
        "          f\" | Batch {batch_idx:03d}/{len(train_loader):03d}\"\n",
        "          f\" | Train Loss: {loss:.2f}\")\n",
        "    model.eval()"
      ],
      "metadata": {
        "colab": {
          "base_uri": "https://localhost:8080/"
        },
        "id": "HvlkvxAcnzn7",
        "outputId": "04a9b76c-fdf4-4fea-f516-a31b42832586"
      },
      "execution_count": 90,
      "outputs": [
        {
          "output_type": "stream",
          "name": "stdout",
          "text": [
            "Epoch: 001/003 | Batch 000/002 | Train Loss: 0.75\n",
            "Epoch: 001/003 | Batch 001/002 | Train Loss: 0.65\n",
            "Epoch: 002/003 | Batch 000/002 | Train Loss: 0.39\n",
            "Epoch: 002/003 | Batch 001/002 | Train Loss: 0.25\n",
            "Epoch: 003/003 | Batch 000/002 | Train Loss: 0.02\n",
            "Epoch: 003/003 | Batch 001/002 | Train Loss: 0.00\n"
          ]
        }
      ]
    },
    {
      "cell_type": "code",
      "source": [
        "model.eval()\n",
        "with torch.no_grad():\n",
        "  outputs = model(X_train)\n",
        "print(outputs)"
      ],
      "metadata": {
        "colab": {
          "base_uri": "https://localhost:8080/"
        },
        "id": "LfWnmEbtp6NY",
        "outputId": "7d556aab-11cb-4f26-de0a-47aa589d9f88"
      },
      "execution_count": 91,
      "outputs": [
        {
          "output_type": "stream",
          "name": "stdout",
          "text": [
            "tensor([[ 3.2347, -4.7798],\n",
            "        [ 2.3164, -3.7002],\n",
            "        [ 2.5392, -3.8612],\n",
            "        [-1.5550,  1.5517],\n",
            "        [-1.8102,  1.8239]])\n"
          ]
        }
      ]
    },
    {
      "cell_type": "code",
      "source": [
        "# to obtain class membership probabilities\n",
        "torch.set_printoptions(sci_mode=False)\n",
        "probas = torch.softmax(outputs, dim=1)\n",
        "print(probas)"
      ],
      "metadata": {
        "colab": {
          "base_uri": "https://localhost:8080/"
        },
        "id": "RlRkiNQQFtUo",
        "outputId": "760d4b4e-0c24-4931-fc54-f9fb42db617d"
      },
      "execution_count": 92,
      "outputs": [
        {
          "output_type": "stream",
          "name": "stdout",
          "text": [
            "tensor([[    0.9997,     0.0003],\n",
            "        [    0.9976,     0.0024],\n",
            "        [    0.9983,     0.0017],\n",
            "        [    0.0428,     0.9572],\n",
            "        [    0.0257,     0.9743]])\n"
          ]
        }
      ]
    },
    {
      "cell_type": "code",
      "source": [
        "predictions = torch.argmax(outputs, dim=1)\n",
        "print(predictions)"
      ],
      "metadata": {
        "colab": {
          "base_uri": "https://localhost:8080/"
        },
        "id": "WbACzX_nF91P",
        "outputId": "0a182ef5-b95f-4072-a611-d9cc0998dd55"
      },
      "execution_count": 93,
      "outputs": [
        {
          "output_type": "stream",
          "name": "stdout",
          "text": [
            "tensor([0, 0, 0, 1, 1])\n"
          ]
        }
      ]
    },
    {
      "cell_type": "code",
      "source": [
        "predictions == y_train"
      ],
      "metadata": {
        "colab": {
          "base_uri": "https://localhost:8080/"
        },
        "id": "mWguw04-GJQO",
        "outputId": "c56ee648-e803-4878-a469-4fd2355eb36a"
      },
      "execution_count": 94,
      "outputs": [
        {
          "output_type": "execute_result",
          "data": {
            "text/plain": [
              "tensor([True, True, True, True, True])"
            ]
          },
          "metadata": {},
          "execution_count": 94
        }
      ]
    },
    {
      "cell_type": "code",
      "source": [
        "torch.sum(predictions == y_train)"
      ],
      "metadata": {
        "colab": {
          "base_uri": "https://localhost:8080/"
        },
        "id": "pyep3sm1GXr7",
        "outputId": "e537b75d-5ee8-4dee-c133-60361b01af2f"
      },
      "execution_count": 95,
      "outputs": [
        {
          "output_type": "execute_result",
          "data": {
            "text/plain": [
              "tensor(5)"
            ]
          },
          "metadata": {},
          "execution_count": 95
        }
      ]
    },
    {
      "cell_type": "code",
      "source": [
        "# compute predictiona accuracy\n",
        "def compute_accuracy(model, dataloader):\n",
        "  model = model.eval()\n",
        "  correct = 0\n",
        "  total_examples =0\n",
        "\n",
        "  for idx, (features, labels) in enumerate(dataloader):\n",
        "    with torch.no_grad():\n",
        "      logits = model(features)\n",
        "    predictions = torch.argmax(logits, dim=1)\n",
        "    compare = labels == predictions\n",
        "    correct += torch.sum(compare)\n",
        "    total_examples += len(compare)\n",
        "  return(correct/total_examples).item()"
      ],
      "metadata": {
        "id": "Qir9NB3qGbjI"
      },
      "execution_count": 96,
      "outputs": []
    },
    {
      "cell_type": "code",
      "source": [
        "print(compute_accuracy(model, train_loader))\n"
      ],
      "metadata": {
        "colab": {
          "base_uri": "https://localhost:8080/"
        },
        "id": "360Fi2gZHEjo",
        "outputId": "65ef6884-9134-45ea-af79-661d07a9d616"
      },
      "execution_count": 97,
      "outputs": [
        {
          "output_type": "stream",
          "name": "stdout",
          "text": [
            "1.0\n"
          ]
        }
      ]
    },
    {
      "cell_type": "code",
      "source": [
        "print(compute_accuracy(model, test_loader))\n"
      ],
      "metadata": {
        "colab": {
          "base_uri": "https://localhost:8080/"
        },
        "id": "M7QoILRKHGzb",
        "outputId": "035ae774-098d-4f92-c246-c6b8287fb11a"
      },
      "execution_count": 98,
      "outputs": [
        {
          "output_type": "stream",
          "name": "stdout",
          "text": [
            "1.0\n"
          ]
        }
      ]
    },
    {
      "cell_type": "code",
      "source": [
        "torch.save(model.state_dict(), \"model.pth\")"
      ],
      "metadata": {
        "id": "ySVnjQtNHJ5w"
      },
      "execution_count": 99,
      "outputs": []
    },
    {
      "cell_type": "code",
      "source": [
        "model = NeuralNetwork(2,2)\n",
        "model.load_state_dict(torch.load(\"model.pth\"))"
      ],
      "metadata": {
        "colab": {
          "base_uri": "https://localhost:8080/"
        },
        "id": "FkVsU17qHQKs",
        "outputId": "1925892c-532f-47b0-bc79-e9bed000bef6"
      },
      "execution_count": 100,
      "outputs": [
        {
          "output_type": "execute_result",
          "data": {
            "text/plain": [
              "<All keys matched successfully>"
            ]
          },
          "metadata": {},
          "execution_count": 100
        }
      ]
    },
    {
      "cell_type": "code",
      "source": [],
      "metadata": {
        "id": "2M1psnuxHWrS"
      },
      "execution_count": null,
      "outputs": []
    }
  ]
}